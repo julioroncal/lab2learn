{
 "cells": [
  {
   "cell_type": "markdown",
   "metadata": {},
   "source": [
    "# Receitas\n",
    "## Bloco de Questões II - Queries Avançadas e de Atualização\n",
    "\n",
    "Considere os comandos SQL a seguir para criar tabelas que controlam Produtos e Receitas, bem como o respectivo esquema relacional simplificado abaixo. A tabela de Produto mantém um cadastro de produtos, com seu código, nome e custo_unitario, que corresponde ao custo de aquisição de uma unidade do produto. Cada Receita tem um código, nome, tipo (e.g., vegana, regular, light) e custo_total (corresponde ao custo de produção da receita inteira). Cada entrada na tabela Ingrediente indica que um Produto é componente de uma Receita em uma certa quantidade.\n",
    "\n",
    "### Esquema Relacional\n",
    "~~~\n",
    "Produto(codigo_produto, nome_produto, custo_unitario)\n",
    "Receita(codigo_receita, nome_receita, tipo_receita, custo_total)\n",
    "Ingrediente(codigo_receita, codigo_produto, quantidade)\n",
    "~~~"
   ]
  },
  {
   "cell_type": "markdown",
   "metadata": {},
   "source": [
    "Ativando uma conexão de banco de dados em memória usando o SGBD H2:"
   ]
  },
  {
   "cell_type": "code",
   "execution_count": 1,
   "metadata": {},
   "outputs": [],
   "source": [
    "%defaultDatasource jdbc:h2:mem:db"
   ]
  },
  {
   "cell_type": "code",
   "execution_count": 2,
   "metadata": {},
   "outputs": [
    {
     "data": {
      "application/vnd.jupyter.widget-view+json": {
       "model_id": "19fb0fbb-8151-47ed-86dd-167dc34b349a",
       "version_major": 2,
       "version_minor": 0
      },
      "method": "display_data"
     },
     "metadata": {},
     "output_type": "display_data"
    },
    {
     "data": {
      "application/vnd.jupyter.widget-view+json": {
       "model_id": "98c01d1a-7488-41f4-86f0-87c8432b70dc",
       "version_major": 2,
       "version_minor": 0
      },
      "method": "display_data"
     },
     "metadata": {},
     "output_type": "display_data"
    },
    {
     "data": {
      "application/vnd.jupyter.widget-view+json": {
       "model_id": "2c667f69-767f-433e-b314-741d7d4bc4d5",
       "version_major": 2,
       "version_minor": 0
      },
      "method": "display_data"
     },
     "metadata": {},
     "output_type": "display_data"
    }
   ],
   "source": [
    "DROP Table IF EXISTS Ingrediente;\n",
    "DROP Table IF EXISTS Receita;\n",
    "DROP Table IF EXISTS Produto;\n",
    "\n",
    "CREATE TABLE Produto (\n",
    "  codigo_produto VARCHAR(7),\n",
    "  nome_produto VARCHAR(80),\n",
    "  custo_unitario DECIMAL(5,2),\n",
    "  PRIMARY KEY (codigo_produto)\n",
    ");\n",
    "\n",
    "CREATE TABLE Receita (\n",
    "  codigo_receita VARCHAR(7),\n",
    "  nome_receita VARCHAR(80),\n",
    "  tipo_receita VARCHAR(10),\n",
    "  custo_total DECIMAL(5,2),\n",
    "  PRIMARY KEY (codigo_receita));\n",
    "               \n",
    "CREATE TABLE Ingrediente (\n",
    "  codigo_receita VARCHAR(7),\n",
    "  codigo_produto VARCHAR(7),\n",
    "  quantidade DECIMAL(5,2),\n",
    "  PRIMARY KEY (codigo_receita, codigo_produto, quantidade),\n",
    "  FOREIGN KEY (codigo_receita)\n",
    "    REFERENCES Receita (codigo_receita),\n",
    "  FOREIGN KEY (codigo_produto)\n",
    "    REFERENCES Produto (codigo_produto) );\n",
    "\n",
    "INSERT INTO Produto VALUES ('CHOCO', 'Chocolate', 3.0);\n",
    "INSERT INTO Produto VALUES ('CENO', 'Cenoura', 1.5);\n",
    "INSERT INTO Produto VALUES ('ACU', 'Acucar', 0.5);\n",
    "INSERT INTO Produto VALUES ('SUCRA', 'Sucralose', 5.0);\n",
    "INSERT INTO Produto VALUES ('FAR', 'Farinha', 1.0);\n",
    "\n",
    "INSERT INTO Receita VALUES ('BOLOCE', 'Bolo Cenoura', 'vegana', 6.0);\n",
    "INSERT INTO Receita VALUES ('BOLOCH', 'Bolo Chocolate', 'regular', 6.7);\n",
    "INSERT INTO Receita VALUES ('BOLOCEL', 'Bolo Cenoura Light', 'light', 10.0);\n",
    "\n",
    "INSERT INTO Ingrediente VALUES ('BOLOCE', 'CENO', 1.0);\n",
    "INSERT INTO Ingrediente VALUES ('BOLOCE', 'ACU', 1.0);\n",
    "INSERT INTO Ingrediente VALUES ('BOLOCE', 'FAR', 3.0);\n",
    "INSERT INTO Ingrediente VALUES ('BOLOCE', 'ACU', 2.0);\n",
    "INSERT INTO Ingrediente VALUES ('BOLOCH', 'CHOCO', 1.0);\n",
    "INSERT INTO Ingrediente VALUES ('BOLOCH', 'ACU', 1.0);\n",
    "INSERT INTO Ingrediente VALUES ('BOLOCH', 'FAR', 3.0);\n",
    "INSERT INTO Ingrediente VALUES ('BOLOCEL', 'CENO', 1.0);\n",
    "INSERT INTO Ingrediente VALUES ('BOLOCEL', 'SUCRA', 1.0);\n",
    "INSERT INTO Ingrediente VALUES ('BOLOCEL', 'FAR', 3.0);\n",
    "\n",
    "SELECT * FROM Produto;\n",
    "SELECT * FROM Receita;\n",
    "SELECT * FROM Ingrediente;"
   ]
  },
  {
   "cell_type": "code",
   "execution_count": 6,
   "metadata": {},
   "outputs": [],
   "source": [
    "DROP TABLE NOVA_RECEITA;\n",
    "CREATE TABLE NOVA_RECEITA AS\n",
    "SELECT CODIGO_RECEITA, NOME_RECEITA, TIPO_RECEITA, CUSTO_TOTAL, '' AS AVALIACAO\n",
    "FROM RECEITA;"
   ]
  },
  {
   "cell_type": "code",
   "execution_count": 7,
   "metadata": {},
   "outputs": [
    {
     "data": {
      "application/vnd.jupyter.widget-view+json": {
       "model_id": "a7c44a68-a182-430c-9550-954c015394dd",
       "version_major": 2,
       "version_minor": 0
      },
      "method": "display_data"
     },
     "metadata": {},
     "output_type": "display_data"
    }
   ],
   "source": [
    "SELECT * FROM NOVA_RECEITA;"
   ]
  },
  {
   "cell_type": "code",
   "execution_count": 9,
   "metadata": {},
   "outputs": [],
   "source": [
    "UPDATE NOVA_RECEITA\n",
    "SET AVALIACAO = 'CARA'\n",
    "WHERE CUSTO_TOTAL > 6;"
   ]
  },
  {
   "cell_type": "code",
   "execution_count": 12,
   "metadata": {},
   "outputs": [
    {
     "data": {
      "application/vnd.jupyter.widget-view+json": {
       "model_id": "c8ffee98-b033-4032-b10a-08ceeb31a025",
       "version_major": 2,
       "version_minor": 0
      },
      "method": "display_data"
     },
     "metadata": {},
     "output_type": "display_data"
    }
   ],
   "source": [
    "SELECT * FROM NOVA_RECEITA;"
   ]
  },
  {
   "cell_type": "code",
   "execution_count": 11,
   "metadata": {},
   "outputs": [],
   "source": [
    "UPDATE NOVA_RECEITA\n",
    "SET AVALIACAO = 'BARATA'\n",
    "WHERE CUSTO_TOTAL <= 6;"
   ]
  },
  {
   "cell_type": "markdown",
   "metadata": {},
   "source": [
    "## Questão 1\n",
    "\n",
    "Atualize o custo unitário de todos os produtos em 1%."
   ]
  },
  {
   "cell_type": "code",
   "execution_count": null,
   "metadata": {},
   "outputs": [],
   "source": []
  },
  {
   "cell_type": "markdown",
   "metadata": {},
   "source": [
    "## Questão 2\n",
    "\n",
    "Crie uma VIEW para o resultado da query da Questão 4 do Bloco de Questões I.\n",
    "\n",
    "Em algumas receitas o mesmo produto aparece mais de uma vez com quantidades diferentes. Apresente a mesma tabela de Ingredientes de modo que não haja produtos que aparecem mais de uma vez. Para isso, junte os produtos que aparecem mais de uma vez na mesma receita e some as suas quantidades."
   ]
  },
  {
   "cell_type": "code",
   "execution_count": null,
   "metadata": {},
   "outputs": [],
   "source": []
  },
  {
   "cell_type": "markdown",
   "metadata": {},
   "source": [
    "## Questão 3\n",
    "Estenda a questão anterior aplicando a seguinte regra: se o produto aparecer duas vezes, junte os dois em um e some as suas quantidades, se aparecer mais do que duas vezes ele não deve entrar na tabela Ingredientes nova."
   ]
  },
  {
   "cell_type": "code",
   "execution_count": null,
   "metadata": {},
   "outputs": [],
   "source": []
  },
  {
   "cell_type": "markdown",
   "metadata": {},
   "source": [
    "## Questão 4\n",
    "Escreva uma consulta que liste o nome daqueles Produtos que não aparecem em nenhuma Receita."
   ]
  },
  {
   "cell_type": "code",
   "execution_count": null,
   "metadata": {},
   "outputs": [],
   "source": []
  },
  {
   "cell_type": "markdown",
   "metadata": {},
   "source": [
    "## Questão 5\n",
    "\n",
    "Escreva uma consulta que mostre o nome das receitas que não têm produtos que aparecem mais de uma vez."
   ]
  },
  {
   "cell_type": "code",
   "execution_count": null,
   "metadata": {},
   "outputs": [],
   "source": []
  }
 ],
 "metadata": {
  "kernelspec": {
   "display_name": "SQL",
   "language": "SQL",
   "name": "sql"
  },
  "language_info": {
   "codemirror_mode": "sql",
   "file_extension": ".sql",
   "mimetype": "",
   "name": "SQL",
   "nbconverter_exporter": "",
   "version": ""
  },
  "toc": {
   "base_numbering": 1,
   "nav_menu": {},
   "number_sections": false,
   "sideBar": false,
   "skip_h1_title": false,
   "title_cell": "Table of Contents",
   "title_sidebar": "Contents",
   "toc_cell": false,
   "toc_position": {},
   "toc_section_display": false,
   "toc_window_display": false
  }
 },
 "nbformat": 4,
 "nbformat_minor": 2
}
