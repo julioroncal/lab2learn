{
 "cells": [
  {
   "cell_type": "markdown",
   "metadata": {},
   "source": [
    "# Receitas\n",
    "## Bloco de Questões I - SQL Básico\n",
    "\n",
    "Considere os comandos SQL a seguir para criar tabelas que controlam Produtos e Receitas, bem como o respectivo esquema relacional simplificado abaixo. A tabela de Produto mantém um cadastro de produtos, com seu código, nome e custo_unitario, que corresponde ao custo de aquisição de uma unidade do produto. Cada Receita tem um código, nome, tipo (e.g., vegana, regular, light) e custo_total (corresponde ao custo de produção da receita inteira). Cada entrada na tabela Ingrediente indica que um Produto é componente de uma Receita em uma certa quantidade.\n",
    "\n",
    "### Esquema Relacional\n",
    "~~~\n",
    "Produto(codigo_produto, nome_produto, custo_unitario)\n",
    "Receita(codigo_receita, nome_receita, tipo_receita, custo_total)\n",
    "Ingrediente(codigo_receita, codigo_produto, quantidade)\n",
    "~~~"
   ]
  },
  {
   "cell_type": "markdown",
   "metadata": {},
   "source": [
    "Ativando uma conexão de banco de dados em memória usando o SGBD H2:"
   ]
  },
  {
   "cell_type": "code",
   "execution_count": 1,
   "metadata": {},
   "outputs": [],
   "source": [
    "%defaultDatasource jdbc:h2:mem:db"
   ]
  },
  {
   "cell_type": "code",
   "execution_count": 2,
   "metadata": {},
   "outputs": [
    {
     "data": {
      "application/vnd.jupyter.widget-view+json": {
       "model_id": "34b50e70-b3e5-4fe1-9c35-e0841dc51ee4",
       "version_major": 2,
       "version_minor": 0
      },
      "method": "display_data"
     },
     "metadata": {},
     "output_type": "display_data"
    },
    {
     "data": {
      "application/vnd.jupyter.widget-view+json": {
       "model_id": "1bcfbff3-9bea-4986-9c80-79066236064f",
       "version_major": 2,
       "version_minor": 0
      },
      "method": "display_data"
     },
     "metadata": {},
     "output_type": "display_data"
    },
    {
     "data": {
      "application/vnd.jupyter.widget-view+json": {
       "model_id": "d6ab6e1f-ccf7-41c4-b864-99c3166a6034",
       "version_major": 2,
       "version_minor": 0
      },
      "method": "display_data"
     },
     "metadata": {},
     "output_type": "display_data"
    }
   ],
   "source": [
    "DROP Table IF EXISTS Ingrediente;\n",
    "DROP Table IF EXISTS Receita;\n",
    "DROP Table IF EXISTS Produto;\n",
    "\n",
    "CREATE TABLE Produto (\n",
    "  codigo_produto VARCHAR(7),\n",
    "  nome_produto VARCHAR(80),\n",
    "  custo_unitario DECIMAL(5,2),\n",
    "  PRIMARY KEY (codigo_produto)\n",
    ");\n",
    "\n",
    "CREATE TABLE Receita (\n",
    "  codigo_receita VARCHAR(7),\n",
    "  nome_receita VARCHAR(80),\n",
    "  tipo_receita VARCHAR(10),\n",
    "  custo_total DECIMAL(5,2),\n",
    "  PRIMARY KEY (codigo_receita));\n",
    "               \n",
    "CREATE TABLE Ingrediente (\n",
    "  codigo_receita VARCHAR(7),\n",
    "  codigo_produto VARCHAR(7),\n",
    "  quantidade DECIMAL(5,2),\n",
    "  PRIMARY KEY (codigo_receita, codigo_produto, quantidade),\n",
    "  FOREIGN KEY (codigo_receita)\n",
    "    REFERENCES Receita (codigo_receita),\n",
    "  FOREIGN KEY (codigo_produto)\n",
    "    REFERENCES Produto (codigo_produto) );\n",
    "\n",
    "INSERT INTO Produto VALUES ('CHOCO', 'Chocolate', 3.0);\n",
    "INSERT INTO Produto VALUES ('CENO', 'Cenoura', 1.5);\n",
    "INSERT INTO Produto VALUES ('ACU', 'Acucar', 0.5);\n",
    "INSERT INTO Produto VALUES ('SUCRA', 'Sucralose', 5.0);\n",
    "INSERT INTO Produto VALUES ('FAR', 'Farinha', 1.0);\n",
    "\n",
    "INSERT INTO Receita VALUES ('BOLOCE', 'Bolo Cenoura', 'vegana', 6.0);\n",
    "INSERT INTO Receita VALUES ('BOLOCH', 'Bolo Chocolate', 'regular', 6.7);\n",
    "INSERT INTO Receita VALUES ('BOLOCEL', 'Bolo Cenoura Light', 'light', 10.0);\n",
    "\n",
    "INSERT INTO Ingrediente VALUES ('BOLOCE', 'CENO', 1.0);\n",
    "INSERT INTO Ingrediente VALUES ('BOLOCE', 'ACU', 1.0);\n",
    "INSERT INTO Ingrediente VALUES ('BOLOCE', 'FAR', 3.0);\n",
    "INSERT INTO Ingrediente VALUES ('BOLOCE', 'ACU', 2.0);\n",
    "INSERT INTO Ingrediente VALUES ('BOLOCH', 'CHOCO', 1.0);\n",
    "INSERT INTO Ingrediente VALUES ('BOLOCH', 'ACU', 1.0);\n",
    "INSERT INTO Ingrediente VALUES ('BOLOCH', 'FAR', 3.0);\n",
    "INSERT INTO Ingrediente VALUES ('BOLOCEL', 'CENO', 1.0);\n",
    "INSERT INTO Ingrediente VALUES ('BOLOCEL', 'SUCRA', 1.0);\n",
    "INSERT INTO Ingrediente VALUES ('BOLOCEL', 'FAR', 3.0);\n",
    "\n",
    "SELECT * FROM Produto;\n",
    "SELECT * FROM Receita;\n",
    "SELECT * FROM Ingrediente;"
   ]
  },
  {
   "cell_type": "markdown",
   "metadata": {},
   "source": [
    "## Questão 1\n",
    "\n",
    "Liste o código de todas as receitas e o código dos ingredientes das receitas."
   ]
  },
  {
   "cell_type": "code",
   "execution_count": 3,
   "metadata": {},
   "outputs": [
    {
     "data": {
      "application/vnd.jupyter.widget-view+json": {
       "model_id": "e54eaa74-f500-4c60-8ef0-1bcc98ad16fd",
       "version_major": 2,
       "version_minor": 0
      },
      "method": "display_data"
     },
     "metadata": {},
     "output_type": "display_data"
    }
   ],
   "source": [
    "SELECT I.CODIGO_RECEITA, I.CODIGO_PRODUTO\n",
    "FROM Ingrediente I;"
   ]
  },
  {
   "cell_type": "markdown",
   "metadata": {},
   "source": [
    "## Questão 2\n",
    "\n",
    "Liste o nome de todas as receitas e o nome dos ingredientes das receitas."
   ]
  },
  {
   "cell_type": "code",
   "execution_count": 4,
   "metadata": {},
   "outputs": [
    {
     "data": {
      "application/vnd.jupyter.widget-view+json": {
       "model_id": "fe189db5-7752-42e7-beeb-de16b860b9cf",
       "version_major": 2,
       "version_minor": 0
      },
      "method": "display_data"
     },
     "metadata": {},
     "output_type": "display_data"
    }
   ],
   "source": [
    "SELECT R.NOME_RECEITA, P.NOME_PRODUTO\n",
    "FROM Receita R, Ingrediente I, Produto P\n",
    "WHERE R.CODIGO_RECEITA = I.CODIGO_RECEITA AND I.CODIGO_PRODUTO = P.CODIGO_PRODUTO;"
   ]
  },
  {
   "cell_type": "markdown",
   "metadata": {},
   "source": [
    "## Questão 3\n",
    "Liste o nome de todos os produtos que aparecem em receitas veganas, cujo custo unitário é maior que 1.0. Nomes de produtos não devem aparecer duplicados."
   ]
  },
  {
   "cell_type": "code",
   "execution_count": 5,
   "metadata": {},
   "outputs": [
    {
     "data": {
      "text/plain": [
       "Cenoura"
      ]
     },
     "execution_count": 5,
     "metadata": {},
     "output_type": "execute_result"
    }
   ],
   "source": [
    "SELECT DISTINCT P.nome_produto\n",
    "FROM Produto P, Ingrediente I, Receita R\n",
    "WHERE R.codigo_receita=I.codigo_receita AND P.codigo_produto=I.codigo_produto\n",
    "      AND R.tipo_receita='vegana' AND P.custo_unitario > 1.0"
   ]
  },
  {
   "cell_type": "markdown",
   "metadata": {},
   "source": [
    "## Questão 4\n",
    "\n",
    "Em algumas receitas o mesmo produto aparece mais de uma vez com quantidades diferentes. Apresente a mesma tabela de Ingredientes de modo que não haja produtos que aparecem mais de uma vez. Para isso, junte os produtos que aparecem mais de uma vez na mesma receita e some as suas quantidades."
   ]
  },
  {
   "cell_type": "code",
   "execution_count": 6,
   "metadata": {},
   "outputs": [
    {
     "data": {
      "application/vnd.jupyter.widget-view+json": {
       "model_id": "80d40075-3a73-4e66-ae76-bb153dbbe246",
       "version_major": 2,
       "version_minor": 0
      },
      "method": "display_data"
     },
     "metadata": {},
     "output_type": "display_data"
    }
   ],
   "source": [
    "SELECT CODIGO_RECEITA, CODIGO_PRODUTO, SUM(QUANTIDADE) QUANTIDADE\n",
    "FROM INGREDIENTE\n",
    "GROUP BY CODIGO_RECEITA, CODIGO_PRODUTO;"
   ]
  },
  {
   "cell_type": "markdown",
   "metadata": {},
   "source": [
    "## Questão 5\n",
    "Liste o nome dos Produtos que aparecem em mais de uma Receita."
   ]
  },
  {
   "cell_type": "code",
   "execution_count": 7,
   "metadata": {},
   "outputs": [
    {
     "data": {
      "application/vnd.jupyter.widget-view+json": {
       "model_id": "4e69349c-9b07-49bf-96ee-a84ebdd343f6",
       "version_major": 2,
       "version_minor": 0
      },
      "method": "display_data"
     },
     "metadata": {},
     "output_type": "display_data"
    }
   ],
   "source": [
    "SELECT P.nome_produto\n",
    "FROM PRODUTO P, INGREDIENTE I\n",
    "WHERE P.CODIGO_PRODUTO = I.CODIGO_PRODUTO\n",
    "GROUP BY I.CODIGO_PRODUTO\n",
    "HAVING COUNT(*) >= 2;"
   ]
  },
  {
   "cell_type": "markdown",
   "metadata": {},
   "source": [
    "## Questão 6\n",
    "\n",
    "A coluna `custo_total` de uma Receita deveria calculado pelo somatório do `custo_unitario` de cada ingrediente multiplicado pela sua quantidade na receita. Escreva para verificar se a coluna está correta. A consulta apresenta o nome de todas as receitas cujo custo_total não atende a este critério, seu custo presente na `coluna_total` e seu custo calculado a patir dos ingredientes.\n",
    "\n",
    "Tente fazer a questão diretamente. Se não conseguir, resolva o passo a passo a seguir (6.1 a 6.3)."
   ]
  },
  {
   "cell_type": "code",
   "execution_count": 8,
   "metadata": {},
   "outputs": [
    {
     "data": {
      "application/vnd.jupyter.widget-view+json": {
       "model_id": "4d9b3a5f-0d53-4c3f-80aa-50237895c384",
       "version_major": 2,
       "version_minor": 0
      },
      "method": "display_data"
     },
     "metadata": {},
     "output_type": "display_data"
    }
   ],
   "source": [
    "SELECT R.NOME_RECEITA, R.CUSTO_TOTAL, SUM(I.quantidade * P.custo_unitario) CUSTO_CALCULADO\n",
    "FROM Receita R, Ingrediente I, Produto P\n",
    "WHERE R.CODIGO_RECEITA = I.CODIGO_RECEITA AND I.CODIGO_PRODUTO = P.CODIGO_PRODUTO\n",
    "GROUP BY I.CODIGO_RECEITA\n",
    "HAVING R.CUSTO_TOTAL <> CUSTO_CALCULADO;"
   ]
  },
  {
   "cell_type": "markdown",
   "metadata": {},
   "source": [
    "### Questão 6 - Passo 1\n",
    "Liste o nome de todas as receitas e o seu custo total (coluna `custo_total`)."
   ]
  },
  {
   "cell_type": "code",
   "execution_count": 9,
   "metadata": {},
   "outputs": [
    {
     "data": {
      "application/vnd.jupyter.widget-view+json": {
       "model_id": "4c7ca6e3-765a-47a3-88bd-290e1a7ec652",
       "version_major": 2,
       "version_minor": 0
      },
      "method": "display_data"
     },
     "metadata": {},
     "output_type": "display_data"
    }
   ],
   "source": [
    "SELECT R.NOME_RECEITA, R.CUSTO_TOTAL\n",
    "FROM RECEITA R;"
   ]
  },
  {
   "cell_type": "markdown",
   "metadata": {},
   "source": [
    "### Questão 6 - Passo 2\n",
    "Amplie a query do passo 1 acrescentando uma terceira coluna de custo calculado a partir dos ingredientes. Esse custo é calculado pelo somatório do custo de cada ingrediente multiplicado pela sua quantidade na receita."
   ]
  },
  {
   "cell_type": "code",
   "execution_count": 10,
   "metadata": {},
   "outputs": [
    {
     "data": {
      "application/vnd.jupyter.widget-view+json": {
       "model_id": "d115a37e-863e-46ec-92c3-995d47780122",
       "version_major": 2,
       "version_minor": 0
      },
      "method": "display_data"
     },
     "metadata": {},
     "output_type": "display_data"
    }
   ],
   "source": [
    "SELECT R.NOME_RECEITA, R.CUSTO_TOTAL, SUM(I.quantidade * P.custo_unitario) CUSTO_CALCULADO\n",
    "FROM Receita R, Ingrediente I, Produto P\n",
    "WHERE R.CODIGO_RECEITA = I.CODIGO_RECEITA AND I.CODIGO_PRODUTO = P.CODIGO_PRODUTO\n",
    "GROUP BY I.CODIGO_RECEITA;"
   ]
  },
  {
   "cell_type": "markdown",
   "metadata": {},
   "source": [
    "### Questão 6 - Passo 3\n",
    "\n",
    "Apresente aquelas receitas em que o valor da coluna `custo_total` não corresponde ao custo calculado."
   ]
  },
  {
   "cell_type": "code",
   "execution_count": 11,
   "metadata": {},
   "outputs": [
    {
     "data": {
      "application/vnd.jupyter.widget-view+json": {
       "model_id": "3899fae3-bd12-4342-b918-28891326c1ad",
       "version_major": 2,
       "version_minor": 0
      },
      "method": "display_data"
     },
     "metadata": {},
     "output_type": "display_data"
    }
   ],
   "source": [
    "SELECT R.NOME_RECEITA, R.CUSTO_TOTAL, SUM(I.quantidade * P.custo_unitario) CUSTO_CALCULADO\n",
    "FROM Receita R, Ingrediente I, Produto P\n",
    "WHERE R.CODIGO_RECEITA = I.CODIGO_RECEITA AND I.CODIGO_PRODUTO = P.CODIGO_PRODUTO\n",
    "GROUP BY I.CODIGO_RECEITA\n",
    "HAVING R.CUSTO_TOTAL <> CUSTO_CALCULADO;"
   ]
  }
 ],
 "metadata": {
  "kernelspec": {
   "display_name": "SQL",
   "language": "SQL",
   "name": "sql"
  },
  "language_info": {
   "codemirror_mode": "sql",
   "file_extension": ".sql",
   "mimetype": "",
   "name": "SQL",
   "nbconverter_exporter": "",
   "version": ""
  },
  "toc": {
   "base_numbering": 1,
   "nav_menu": {},
   "number_sections": false,
   "sideBar": false,
   "skip_h1_title": false,
   "title_cell": "Table of Contents",
   "title_sidebar": "Contents",
   "toc_cell": false,
   "toc_position": {},
   "toc_section_display": false,
   "toc_window_display": false
  }
 },
 "nbformat": 4,
 "nbformat_minor": 2
}
