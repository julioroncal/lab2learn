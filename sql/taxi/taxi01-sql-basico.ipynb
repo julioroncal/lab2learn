{
 "cells": [
  {
   "cell_type": "markdown",
   "metadata": {},
   "source": [
    "# SQL Básico\n",
    "\n",
    "Ativando uma conexão de banco de dados em memória usando o SGBD H2:"
   ]
  },
  {
   "cell_type": "code",
   "execution_count": 1,
   "metadata": {},
   "outputs": [],
   "source": [
    "%defaultDatasource jdbc:h2:mem:db"
   ]
  },
  {
   "cell_type": "markdown",
   "metadata": {},
   "source": [
    "## Exemplo dos Táxis\n",
    "\n",
    "Baseado no exemplo criado por prof. Geovane Cayres Magalhães http://www.ic.unicamp.br/~geovane/mo410-091/caso.html"
   ]
  },
  {
   "cell_type": "markdown",
   "metadata": {},
   "source": [
    "## Conjunto de tabelas para consultas básicas"
   ]
  },
  {
   "cell_type": "code",
   "execution_count": 2,
   "metadata": {},
   "outputs": [],
   "source": [
    "DROP TABLE IF EXISTS Taxi;\n",
    "DROP TABLE IF EXISTS Cliente;\n",
    "DROP TABLE IF EXISTS Corrida;"
   ]
  },
  {
   "cell_type": "code",
   "execution_count": 3,
   "metadata": {},
   "outputs": [],
   "source": [
    "CREATE TABLE Taxi (\n",
    "  Placa VARCHAR(7) NOT NULL,\n",
    "  Marca VARCHAR(30) NOT NULL,\n",
    "  Modelo VARCHAR(30) NOT NULL,\n",
    "  AnoFab INTEGER,\n",
    "  Licenca VARCHAR(9),\n",
    "  PRIMARY KEY(Placa)\n",
    ");\n",
    "\n",
    "CREATE TABLE Cliente (\n",
    "  CliId VARCHAR(4) NOT NULL,\n",
    "  Nome VARCHAR(80) NOT NULL,\n",
    "  CPF VARCHAR(14) NOT NULL,\n",
    "  PRIMARY KEY(CliId)\n",
    ");\n",
    "\n",
    "CREATE TABLE Corrida (\n",
    "  CliId VARCHAR(4) NOT NULL,\n",
    "  Placa VARCHAR(7) NOT NULL,\n",
    "  DataPedido DATE NOT NULL,\n",
    "  PRIMARY KEY(CliId, Placa, DataPedido),\n",
    "  FOREIGN KEY(CliId)\n",
    "    REFERENCES Cliente(CliId)\n",
    "      ON DELETE NO ACTION\n",
    "      ON UPDATE NO ACTION,\n",
    "  FOREIGN KEY(Placa)\n",
    "    REFERENCES Taxi(Placa)\n",
    "      ON DELETE NO ACTION\n",
    "      ON UPDATE NO ACTION\n",
    ");"
   ]
  },
  {
   "cell_type": "code",
   "execution_count": 4,
   "metadata": {},
   "outputs": [],
   "source": [
    "INSERT INTO Cliente VALUES ('1532', 'Asdrúbal', '448.754.253-65');\n",
    "INSERT INTO Cliente VALUES ('1755', 'Doriana', '567.387.387-44');\n",
    "INSERT INTO Cliente VALUES ('1780', 'Quincas', '546.373.762-02');\n",
    "INSERT INTO Cliente VALUES ('1888', 'Melissa', '123.456.789-10');\n",
    "\n",
    "INSERT INTO Taxi VALUES ('DAE6534', 'Ford', 'Fiesta', 1999, 'MN572345');\n",
    "INSERT INTO Taxi VALUES ('DKL4598', 'Wolkswagen', 'Gol', 2001, 'AU876543');\n",
    "INSERT INTO Taxi VALUES ('DKL7878', 'Ford', 'Fiesta', 2001, 'OP102938');\n",
    "INSERT INTO Taxi VALUES ('JDM8776', 'Wolkswagen', 'Santana', 2002, 'QM365923');\n",
    "INSERT INTO Taxi VALUES ('JJM3692', 'Chevrolet', 'Corsa', 1999, 'UU335577');\n",
    "\n",
    "INSERT INTO Corrida VALUES ('1755', 'DAE6534', '2003-02-15');\n",
    "INSERT INTO Corrida VALUES ('1780', 'JDM8776', '2003-02-18');\n",
    "INSERT INTO Corrida VALUES ('1755', 'DKL7878', '2003-02-16');\n",
    "INSERT INTO Corrida VALUES ('1780', 'DKL4598', '2003-02-17');\n",
    "INSERT INTO Corrida VALUES ('1532', 'DKL4598', '2003-02-18');\n",
    "INSERT INTO Corrida VALUES ('1780', 'DAE6534', '2003-02-16');\n",
    "INSERT INTO Corrida VALUES ('1755', 'DAE6534', '2003-02-18');\n",
    "INSERT INTO Corrida VALUES ('1532', 'DKL4598', '2003-02-20');"
   ]
  },
  {
   "cell_type": "markdown",
   "metadata": {},
   "source": [
    "# SELECT Básico"
   ]
  },
  {
   "cell_type": "markdown",
   "metadata": {},
   "source": [
    "### Todos os Táxis com todos os atributos"
   ]
  },
  {
   "cell_type": "code",
   "execution_count": 5,
   "metadata": {},
   "outputs": [
    {
     "data": {
      "application/vnd.jupyter.widget-view+json": {
       "model_id": "b7aba13e-b2f3-4f22-9c60-eb1c57ad651a",
       "version_major": 2,
       "version_minor": 0
      },
      "method": "display_data"
     },
     "metadata": {},
     "output_type": "display_data"
    }
   ],
   "source": [
    "SELECT * FROM Taxi;"
   ]
  },
  {
   "cell_type": "markdown",
   "metadata": {},
   "source": [
    "### Marca e Modelo dos Taxis disponíveis"
   ]
  },
  {
   "cell_type": "code",
   "execution_count": 6,
   "metadata": {
    "scrolled": true
   },
   "outputs": [
    {
     "data": {
      "application/vnd.jupyter.widget-view+json": {
       "model_id": "a2db7b2b-7e90-4e72-b972-d4e2e2471b3b",
       "version_major": 2,
       "version_minor": 0
      },
      "method": "display_data"
     },
     "metadata": {},
     "output_type": "display_data"
    }
   ],
   "source": [
    "SELECT Marca, Modelo FROM Taxi;"
   ]
  },
  {
   "cell_type": "markdown",
   "metadata": {},
   "source": [
    "### Taxis fabricados depois do ano 2000"
   ]
  },
  {
   "cell_type": "code",
   "execution_count": 7,
   "metadata": {},
   "outputs": [
    {
     "data": {
      "application/vnd.jupyter.widget-view+json": {
       "model_id": "59e804da-75e5-4753-9f68-b57bd047a4d7",
       "version_major": 2,
       "version_minor": 0
      },
      "method": "display_data"
     },
     "metadata": {},
     "output_type": "display_data"
    }
   ],
   "source": [
    "SELECT * FROM Taxi WHERE AnoFab > 2000;"
   ]
  },
  {
   "cell_type": "markdown",
   "metadata": {},
   "source": [
    "### Placas que comecem com DK"
   ]
  },
  {
   "cell_type": "code",
   "execution_count": 8,
   "metadata": {},
   "outputs": [
    {
     "data": {
      "application/vnd.jupyter.widget-view+json": {
       "model_id": "2d632301-5426-471a-aa8f-a0d66c0a7a4d",
       "version_major": 2,
       "version_minor": 0
      },
      "method": "display_data"
     },
     "metadata": {},
     "output_type": "display_data"
    }
   ],
   "source": [
    "SELECT * FROM Taxi WHERE placa LIKE 'DK%';"
   ]
  },
  {
   "cell_type": "markdown",
   "metadata": {},
   "source": [
    "### Placas com '7' na penultima posicao"
   ]
  },
  {
   "cell_type": "code",
   "execution_count": 9,
   "metadata": {},
   "outputs": [
    {
     "data": {
      "application/vnd.jupyter.widget-view+json": {
       "model_id": "1488067f-8f2b-4345-881a-4501191ac4cc",
       "version_major": 2,
       "version_minor": 0
      },
      "method": "display_data"
     },
     "metadata": {},
     "output_type": "display_data"
    }
   ],
   "source": [
    "SELECT * FROM Taxi WHERE placa LIKE '%7_';"
   ]
  },
  {
   "cell_type": "markdown",
   "metadata": {},
   "source": [
    "# Produto Cartesiano"
   ]
  },
  {
   "cell_type": "markdown",
   "metadata": {},
   "source": [
    "### Produto Cartesiano entre Clientes e Corridas"
   ]
  },
  {
   "cell_type": "code",
   "execution_count": 10,
   "metadata": {},
   "outputs": [
    {
     "data": {
      "application/vnd.jupyter.widget-view+json": {
       "model_id": "ffbc82b6-7aa3-447d-8979-3c6929083f85",
       "version_major": 2,
       "version_minor": 0
      },
      "method": "display_data"
     },
     "metadata": {},
     "output_type": "display_data"
    }
   ],
   "source": [
    "SELECT Cliente.CliId, Cliente.Nome, Corrida.Placa, Corrida.DataPedido\n",
    "FROM Cliente, Corrida"
   ]
  },
  {
   "cell_type": "markdown",
   "metadata": {},
   "source": [
    "# JOIN Implícito"
   ]
  },
  {
   "cell_type": "markdown",
   "metadata": {},
   "source": [
    "### Cientes e as respectivas corridas - Join Implícito"
   ]
  },
  {
   "cell_type": "code",
   "execution_count": 11,
   "metadata": {},
   "outputs": [
    {
     "data": {
      "application/vnd.jupyter.widget-view+json": {
       "model_id": "4199b81b-d08f-4932-b46e-7f63fb5efc13",
       "version_major": 2,
       "version_minor": 0
      },
      "method": "display_data"
     },
     "metadata": {},
     "output_type": "display_data"
    }
   ],
   "source": [
    "SELECT Cliente.CliId, Cliente.Nome, Corrida.Placa, Corrida.DataPedido\n",
    "FROM Cliente, Corrida\n",
    "WHERE Cliente.CliId = Corrida.CliId"
   ]
  },
  {
   "cell_type": "markdown",
   "metadata": {},
   "source": [
    "### Modelo de taxi para cada corrida"
   ]
  },
  {
   "cell_type": "code",
   "execution_count": 12,
   "metadata": {},
   "outputs": [
    {
     "data": {
      "application/vnd.jupyter.widget-view+json": {
       "model_id": "da1ad8dd-c0c6-4021-b341-c1eb31b85581",
       "version_major": 2,
       "version_minor": 0
      },
      "method": "display_data"
     },
     "metadata": {},
     "output_type": "display_data"
    }
   ],
   "source": [
    "SELECT Corrida.DataPedido, Corrida.Placa, Taxi.Modelo\n",
    "       FROM Corrida, Taxi\n",
    "       WHERE Corrida.Placa = Taxi.Placa;"
   ]
  },
  {
   "cell_type": "markdown",
   "metadata": {},
   "source": [
    "### Modelos de Táxi por Cliente (estágio 1)"
   ]
  },
  {
   "cell_type": "code",
   "execution_count": 13,
   "metadata": {},
   "outputs": [
    {
     "data": {
      "application/vnd.jupyter.widget-view+json": {
       "model_id": "aa0e737b-ecfb-4d29-9ed5-adc857970149",
       "version_major": 2,
       "version_minor": 0
      },
      "method": "display_data"
     },
     "metadata": {},
     "output_type": "display_data"
    }
   ],
   "source": [
    "SELECT Cliente.Nome, Corrida.DataPedido, Corrida.Placa, Taxi.Modelo\n",
    "       FROM Cliente, Corrida, Taxi\n",
    "       WHERE Cliente.CliId = Corrida.CliId AND Corrida.Placa = Taxi.Placa;"
   ]
  },
  {
   "cell_type": "markdown",
   "metadata": {},
   "source": [
    "### Modelos de Táxi por Cliente (estágio 2)"
   ]
  },
  {
   "cell_type": "code",
   "execution_count": 14,
   "metadata": {},
   "outputs": [
    {
     "data": {
      "application/vnd.jupyter.widget-view+json": {
       "model_id": "90b817e0-32fd-4d54-ac5c-f93b85572406",
       "version_major": 2,
       "version_minor": 0
      },
      "method": "display_data"
     },
     "metadata": {},
     "output_type": "display_data"
    }
   ],
   "source": [
    "SELECT DISTINCT Cliente.Nome, Taxi.Modelo\n",
    "       FROM Cliente, Corrida, Taxi\n",
    "       WHERE Cliente.CliId = Corrida.CliId AND Corrida.Placa = Taxi.Placa;"
   ]
  },
  {
   "cell_type": "markdown",
   "metadata": {},
   "source": [
    "## ORDER BY"
   ]
  },
  {
   "cell_type": "markdown",
   "metadata": {},
   "source": [
    "### Nome dos clientes ordenado alfabeticamente"
   ]
  },
  {
   "cell_type": "code",
   "execution_count": 8,
   "metadata": {},
   "outputs": [
    {
     "data": {
      "application/vnd.jupyter.widget-view+json": {
       "model_id": "ef7975f5-524b-4b39-88d4-6b480c6ab51f",
       "version_major": 2,
       "version_minor": 0
      },
      "method": "display_data"
     },
     "metadata": {},
     "output_type": "display_data"
    }
   ],
   "source": [
    "SELECT Nome\n",
    "       FROM Cliente\n",
    "       ORDER BY Nome DESC;"
   ]
  },
  {
   "cell_type": "markdown",
   "metadata": {},
   "source": [
    "### Modelos de taxi e os clientes que os tomaram\n",
    "\n",
    "Ordena por Modelo, mas não por Cliente:"
   ]
  },
  {
   "cell_type": "code",
   "execution_count": 16,
   "metadata": {},
   "outputs": [
    {
     "data": {
      "application/vnd.jupyter.widget-view+json": {
       "model_id": "44468c8b-bbbf-4d3f-a8c6-5addcef44280",
       "version_major": 2,
       "version_minor": 0
      },
      "method": "display_data"
     },
     "metadata": {},
     "output_type": "display_data"
    }
   ],
   "source": [
    "SELECT DISTINCT Cl.Nome, T.Modelo\n",
    "       FROM Cliente Cl, Corrida Co, Taxi T\n",
    "       WHERE Cl.CliId = Co.CliId AND\n",
    "             Co.Placa = T.Placa\n",
    "       ORDER BY T.Modelo;"
   ]
  },
  {
   "cell_type": "markdown",
   "metadata": {},
   "source": [
    "Ordena por Modelo e, para cada Modelo, por Cliente:"
   ]
  },
  {
   "cell_type": "code",
   "execution_count": 17,
   "metadata": {},
   "outputs": [
    {
     "data": {
      "application/vnd.jupyter.widget-view+json": {
       "model_id": "efe07346-9336-4014-840a-ae621fd52645",
       "version_major": 2,
       "version_minor": 0
      },
      "method": "display_data"
     },
     "metadata": {},
     "output_type": "display_data"
    }
   ],
   "source": [
    "SELECT DISTINCT Cl.Nome, T.Modelo\n",
    "       FROM Cliente Cl, Corrida Co, Taxi T\n",
    "       WHERE Cl.CliId = Co.CliId AND\n",
    "             Co.Placa = T.Placa\n",
    "       ORDER BY T.Modelo, Cl.Nome;"
   ]
  },
  {
   "cell_type": "markdown",
   "metadata": {},
   "source": [
    "### Cliente e os modelos de taxi tomados\n",
    "Ordena por Cliente, mas não por Modelo:"
   ]
  },
  {
   "cell_type": "code",
   "execution_count": 18,
   "metadata": {},
   "outputs": [
    {
     "data": {
      "application/vnd.jupyter.widget-view+json": {
       "model_id": "6e458511-db72-4ba7-a2d8-1f8c4aa32726",
       "version_major": 2,
       "version_minor": 0
      },
      "method": "display_data"
     },
     "metadata": {},
     "output_type": "display_data"
    }
   ],
   "source": [
    "SELECT DISTINCT Cl.Nome, T.Modelo\n",
    "       FROM Cliente Cl, Corrida Co, Taxi T\n",
    "       WHERE Cl.CliId = Co.CliId AND\n",
    "             Co.Placa = T.Placa\n",
    "       ORDER BY Cl.Nome;"
   ]
  },
  {
   "cell_type": "markdown",
   "metadata": {},
   "source": [
    "Ordena por Cliente e, para cada Cliente, por Modelo"
   ]
  },
  {
   "cell_type": "code",
   "execution_count": 19,
   "metadata": {},
   "outputs": [
    {
     "data": {
      "application/vnd.jupyter.widget-view+json": {
       "model_id": "c2712648-75db-47e2-b0c5-6ca18850ed15",
       "version_major": 2,
       "version_minor": 0
      },
      "method": "display_data"
     },
     "metadata": {},
     "output_type": "display_data"
    }
   ],
   "source": [
    "SELECT DISTINCT Cl.Nome, T.Modelo\n",
    "       FROM Cliente Cl, Corrida Co, Taxi T\n",
    "       WHERE Cl.CliId = Co.CliId AND\n",
    "             Co.Placa = T.Placa\n",
    "       ORDER BY Cl.Nome, T.Modelo;"
   ]
  },
  {
   "cell_type": "markdown",
   "metadata": {},
   "source": [
    "## JOIN explícito"
   ]
  },
  {
   "cell_type": "markdown",
   "metadata": {},
   "source": [
    "### Clientes e respectivas corridas (para clientes que fizeram corrida)"
   ]
  },
  {
   "cell_type": "code",
   "execution_count": 20,
   "metadata": {},
   "outputs": [
    {
     "data": {
      "application/vnd.jupyter.widget-view+json": {
       "model_id": "13c471a4-2535-4eb6-8c35-f44ef23a48b1",
       "version_major": 2,
       "version_minor": 0
      },
      "method": "display_data"
     },
     "metadata": {},
     "output_type": "display_data"
    }
   ],
   "source": [
    "SELECT Cl.CliId, Cl.Nome,\n",
    "       Co.Placa, Co.DataPedido\n",
    "       FROM Cliente Cl JOIN Corrida Co\n",
    "            ON Cl.CliId = Co.CliId;"
   ]
  },
  {
   "cell_type": "markdown",
   "metadata": {},
   "source": [
    "### Taxis e respectivas corridas (para taxis que fizeram corrida)"
   ]
  },
  {
   "cell_type": "code",
   "execution_count": 21,
   "metadata": {},
   "outputs": [
    {
     "data": {
      "application/vnd.jupyter.widget-view+json": {
       "model_id": "d85dbc38-70dc-4b86-b5bb-70476ff8facb",
       "version_major": 2,
       "version_minor": 0
      },
      "method": "display_data"
     },
     "metadata": {},
     "output_type": "display_data"
    }
   ],
   "source": [
    "SELECT Tx.placa, Co.cliid\n",
    "       FROM Taxi Tx JOIN Corrida Co\n",
    "            ON Tx.placa = Co.placa;"
   ]
  },
  {
   "cell_type": "markdown",
   "metadata": {},
   "source": [
    "## NATURAL JOIN"
   ]
  },
  {
   "cell_type": "code",
   "execution_count": 22,
   "metadata": {},
   "outputs": [
    {
     "data": {
      "application/vnd.jupyter.widget-view+json": {
       "model_id": "d780514b-c004-4d90-98cc-31a797a93186",
       "version_major": 2,
       "version_minor": 0
      },
      "method": "display_data"
     },
     "metadata": {},
     "output_type": "display_data"
    }
   ],
   "source": [
    "SELECT Tx.placa, Co.cliid\n",
    "       FROM Taxi Tx\n",
    "            NATURAL JOIN Corrida Co;"
   ]
  },
  {
   "cell_type": "markdown",
   "metadata": {},
   "source": [
    "## LEFT JOIN\n",
    "\n",
    "### Clientes e respectivas corridas (para todos os clientes)"
   ]
  },
  {
   "cell_type": "code",
   "execution_count": 23,
   "metadata": {},
   "outputs": [
    {
     "data": {
      "application/vnd.jupyter.widget-view+json": {
       "model_id": "315b218f-e111-45f5-befc-16bfbeb121ea",
       "version_major": 2,
       "version_minor": 0
      },
      "method": "display_data"
     },
     "metadata": {},
     "output_type": "display_data"
    }
   ],
   "source": [
    "SELECT Cl.CliId, Cl.Nome,\n",
    "       Co.Placa, Co.DataPedido\n",
    "       FROM Cliente Cl LEFT JOIN Corrida Co\n",
    "            ON Cl.CliId = Co.CliId;"
   ]
  },
  {
   "cell_type": "markdown",
   "metadata": {},
   "source": [
    "### Taxis e respectivas corridas (para todos os taxis)"
   ]
  },
  {
   "cell_type": "code",
   "execution_count": 24,
   "metadata": {},
   "outputs": [
    {
     "data": {
      "application/vnd.jupyter.widget-view+json": {
       "model_id": "f13f511d-1046-435f-a0a0-19ace68bb1e7",
       "version_major": 2,
       "version_minor": 0
      },
      "method": "display_data"
     },
     "metadata": {},
     "output_type": "display_data"
    }
   ],
   "source": [
    "SELECT Tx.placa, Co.cliid\n",
    "       FROM Taxi Tx LEFT JOIN Corrida Co\n",
    "            ON Tx.placa = Co.placa;"
   ]
  },
  {
   "cell_type": "markdown",
   "metadata": {},
   "source": [
    "## RIGHT JOIN\n",
    "\n",
    "### Corridas e respectivos clientes (para todos os clientes)"
   ]
  },
  {
   "cell_type": "code",
   "execution_count": 25,
   "metadata": {},
   "outputs": [
    {
     "data": {
      "application/vnd.jupyter.widget-view+json": {
       "model_id": "1fd651c2-95b2-450a-b263-6725d0a65cb9",
       "version_major": 2,
       "version_minor": 0
      },
      "method": "display_data"
     },
     "metadata": {},
     "output_type": "display_data"
    }
   ],
   "source": [
    "SELECT Co.placa, Cl.nome\n",
    "       FROM Corrida Co RIGHT JOIN Cliente Cl\n",
    "            ON Co.cliid = Cl.cliid;"
   ]
  },
  {
   "cell_type": "markdown",
   "metadata": {},
   "source": [
    "# GROUP BY"
   ]
  },
  {
   "cell_type": "markdown",
   "metadata": {},
   "source": [
    "### Modelos de Táxi cadastrados"
   ]
  },
  {
   "cell_type": "code",
   "execution_count": 9,
   "metadata": {},
   "outputs": [
    {
     "data": {
      "application/vnd.jupyter.widget-view+json": {
       "model_id": "bf886757-10eb-4743-b1d1-b4b33506be9c",
       "version_major": 2,
       "version_minor": 0
      },
      "method": "display_data"
     },
     "metadata": {},
     "output_type": "display_data"
    }
   ],
   "source": [
    "SELECT T.Modelo\n",
    "       FROM Taxi T\n",
    "       GROUP BY T.Modelo;"
   ]
  },
  {
   "cell_type": "markdown",
   "metadata": {},
   "source": [
    "### Total de Táxis por Modelo\n",
    "\n",
    "Modelos de Táxi cadastrados e quantos táxis há em cada modelo:"
   ]
  },
  {
   "cell_type": "code",
   "execution_count": 10,
   "metadata": {},
   "outputs": [
    {
     "data": {
      "application/vnd.jupyter.widget-view+json": {
       "model_id": "9b1f868d-f82d-4f22-ae29-b1746721d217",
       "version_major": 2,
       "version_minor": 0
      },
      "method": "display_data"
     },
     "metadata": {},
     "output_type": "display_data"
    }
   ],
   "source": [
    "SELECT T.Modelo, COUNT(*)\n",
    "       FROM Taxi T\n",
    "       GROUP BY T.Modelo;"
   ]
  },
  {
   "cell_type": "markdown",
   "metadata": {},
   "source": [
    "## Agregando em mais de um nível"
   ]
  },
  {
   "cell_type": "markdown",
   "metadata": {},
   "source": [
    "### Modelos de taxi tomados por cada cliente (agrupando por Cliente e por Modelo)"
   ]
  },
  {
   "cell_type": "code",
   "execution_count": 18,
   "metadata": {},
   "outputs": [
    {
     "data": {
      "application/vnd.jupyter.widget-view+json": {
       "model_id": "c703a780-287f-4c70-8f77-63e0d53320ad",
       "version_major": 2,
       "version_minor": 0
      },
      "method": "display_data"
     },
     "metadata": {},
     "output_type": "display_data"
    }
   ],
   "source": [
    "SELECT Cl.Nome, T.Modelo\n",
    "       FROM Cliente Cl, Corrida Co, Taxi T\n",
    "       WHERE Cl.CliId = Co.CliId AND\n",
    "             Co.Placa = T.Placa;"
   ]
  },
  {
   "cell_type": "code",
   "execution_count": 29,
   "metadata": {},
   "outputs": [
    {
     "data": {
      "application/vnd.jupyter.widget-view+json": {
       "model_id": "4d6585f7-eb45-4273-b3e6-4bf973ccd6e9",
       "version_major": 2,
       "version_minor": 0
      },
      "method": "display_data"
     },
     "metadata": {},
     "output_type": "display_data"
    }
   ],
   "source": [
    "SELECT DISTINCT Cl.Nome, T.Modelo\n",
    "       FROM Cliente Cl, Corrida Co, Taxi T\n",
    "       WHERE Cl.CliId = Co.CliId AND\n",
    "             Co.Placa = T.Placa;"
   ]
  },
  {
   "cell_type": "code",
   "execution_count": 30,
   "metadata": {},
   "outputs": [
    {
     "data": {
      "application/vnd.jupyter.widget-view+json": {
       "model_id": "f1817a12-84f8-4d0b-bb72-a4d2804046f7",
       "version_major": 2,
       "version_minor": 0
      },
      "method": "display_data"
     },
     "metadata": {},
     "output_type": "display_data"
    }
   ],
   "source": [
    "SELECT Cl.Nome, T.Modelo\n",
    "       FROM Cliente Cl, Corrida Co, Taxi T\n",
    "       WHERE Cl.CliId = Co.CliId AND\n",
    "             Co.Placa = T.Placa\n",
    "       GROUP BY Cl.Nome, T.Modelo;"
   ]
  },
  {
   "cell_type": "code",
   "execution_count": 11,
   "metadata": {},
   "outputs": [
    {
     "data": {
      "application/vnd.jupyter.widget-view+json": {
       "model_id": "bf598a87-db3c-476d-8733-170038021bf7",
       "version_major": 2,
       "version_minor": 0
      },
      "method": "display_data"
     },
     "metadata": {},
     "output_type": "display_data"
    }
   ],
   "source": [
    "SELECT Cl.Nome, T.Modelo, COUNT(*)\n",
    "       FROM Cliente Cl, Corrida Co, Taxi T \n",
    "       WHERE Cl.CliId = Co.CliId AND \n",
    "             Co.Placa = T.Placa\n",
    "       GROUP BY Cl.Nome, T.Modelo;"
   ]
  },
  {
   "cell_type": "markdown",
   "metadata": {},
   "source": [
    "## Contando Itens Distintos"
   ]
  },
  {
   "cell_type": "markdown",
   "metadata": {},
   "source": [
    "### Quantos clientes distintos tomaram cada modelo de táxi"
   ]
  },
  {
   "cell_type": "code",
   "execution_count": 13,
   "metadata": {},
   "outputs": [
    {
     "data": {
      "application/vnd.jupyter.widget-view+json": {
       "model_id": "c9d5a0ad-4e19-4f05-af98-2c1ff87b43a2",
       "version_major": 2,
       "version_minor": 0
      },
      "method": "display_data"
     },
     "metadata": {},
     "output_type": "display_data"
    }
   ],
   "source": [
    "SELECT T.Modelo, Cl.Nome, COUNT(*)\n",
    "       FROM Cliente Cl, Corrida Co, Taxi T \n",
    "       WHERE Cl.CliId = Co.CliId AND \n",
    "             Co.Placa = T.Placa\n",
    "       GROUP BY T.Modelo, Cl.Nome;"
   ]
  },
  {
   "cell_type": "markdown",
   "metadata": {},
   "source": [
    "#### Sem distinguir clientes"
   ]
  },
  {
   "cell_type": "code",
   "execution_count": 16,
   "metadata": {},
   "outputs": [
    {
     "data": {
      "application/vnd.jupyter.widget-view+json": {
       "model_id": "3f79acc3-a311-4f4c-a540-2d5d7f94d15b",
       "version_major": 2,
       "version_minor": 0
      },
      "method": "display_data"
     },
     "metadata": {},
     "output_type": "display_data"
    }
   ],
   "source": [
    "SELECT T.Modelo, COUNT(*)\n",
    "       FROM Taxi T, Corrida Co\n",
    "       WHERE Co.Placa = T.Placa\n",
    "       GROUP BY T.Modelo;"
   ]
  },
  {
   "cell_type": "markdown",
   "metadata": {},
   "source": [
    "#### Com distinção de clientes"
   ]
  },
  {
   "cell_type": "code",
   "execution_count": 17,
   "metadata": {},
   "outputs": [
    {
     "data": {
      "application/vnd.jupyter.widget-view+json": {
       "model_id": "200d23e7-e3b1-4560-ae74-ca8b99e9dd98",
       "version_major": 2,
       "version_minor": 0
      },
      "method": "display_data"
     },
     "metadata": {},
     "output_type": "display_data"
    }
   ],
   "source": [
    "SELECT T.Modelo, COUNT(DISTINCT Co.CliId)\n",
    "       FROM Taxi T, Corrida Co\n",
    "       WHERE Co.Placa = T.Placa\n",
    "       GROUP BY T.Modelo;"
   ]
  },
  {
   "cell_type": "markdown",
   "metadata": {},
   "source": [
    "## Funções de agregação sem agrupamento\n",
    "\n",
    "### Média de ano de fabricação para todos os Táxis\n",
    "\n",
    "Quando é usada função de agregação sem especificação de agrupamento, toda a tabela é agregada como se fosse um único grupo."
   ]
  },
  {
   "cell_type": "code",
   "execution_count": 32,
   "metadata": {},
   "outputs": [
    {
     "data": {
      "application/vnd.jupyter.widget-view+json": {
       "model_id": "4021678b-a559-49a0-83b8-85950fd71a52",
       "version_major": 2,
       "version_minor": 0
      },
      "method": "display_data"
     },
     "metadata": {},
     "output_type": "display_data"
    }
   ],
   "source": [
    "SELECT Modelo, AnoFab FROM Taxi;"
   ]
  },
  {
   "cell_type": "code",
   "execution_count": 33,
   "metadata": {},
   "outputs": [
    {
     "data": {
      "application/vnd.jupyter.widget-view+json": {
       "model_id": "c194a1f5-49f5-4c89-a8d6-ae596bed5760",
       "version_major": 2,
       "version_minor": 0
      },
      "method": "display_data"
     },
     "metadata": {},
     "output_type": "display_data"
    }
   ],
   "source": [
    "SELECT Modelo, MIN(AnoFab), MAX(AnoFab), AVG(AnoFab)\n",
    "       FROM Taxi\n",
    "       GROUP BY Modelo;"
   ]
  },
  {
   "cell_type": "code",
   "execution_count": 34,
   "metadata": {},
   "outputs": [
    {
     "data": {
      "text/plain": [
       "2002"
      ]
     },
     "execution_count": 34,
     "metadata": {},
     "output_type": "execute_result"
    }
   ],
   "source": [
    "-- Maior ano de fabricação de toda a tabela\n",
    "SELECT MAX(AnoFab) FROM Taxi;"
   ]
  },
  {
   "cell_type": "markdown",
   "metadata": {},
   "source": [
    "## Campos mostrados devem corresponder a agregação\n",
    "\n",
    "Exemplo sem agregação:"
   ]
  },
  {
   "cell_type": "code",
   "execution_count": 35,
   "metadata": {},
   "outputs": [
    {
     "data": {
      "application/vnd.jupyter.widget-view+json": {
       "model_id": "ba55be36-e61e-484c-9b35-c822834c29fb",
       "version_major": 2,
       "version_minor": 0
      },
      "method": "display_data"
     },
     "metadata": {},
     "output_type": "display_data"
    }
   ],
   "source": [
    "SELECT Modelo, AnoFab\n",
    "       FROM Taxi;"
   ]
  },
  {
   "cell_type": "markdown",
   "metadata": {},
   "source": [
    "### Modelo e Ano de Fabricação\n",
    "\n",
    "Este exemplo com agregação produzirá um erro pois `AnoFab` (ano de fabricação) não foi agregado, portanto, pode haver mais de um ano de fabricação para o mesmo modelo."
   ]
  },
  {
   "cell_type": "code",
   "execution_count": 36,
   "metadata": {},
   "outputs": [
    {
     "ename": "org.h2.jdbc.JdbcSQLException",
     "evalue": " Column \"ANOFAB\" must be in the GROUP BY list; SQL statement",
     "output_type": "error",
     "traceback": [
      "\u001b[1;31morg.h2.jdbc.JdbcSQLException: Column \"ANOFAB\" must be in the GROUP BY list; SQL statement:\u001b[0;0m",
      "\u001b[1;31mSELECT Modelo, AnoFab\u001b[0;0m",
      "\u001b[1;31mFROM Taxi\u001b[0;0m",
      "\u001b[1;31mGROUP BY Modelo [90016-193]\u001b[0;0m"
     ]
    }
   ],
   "source": [
    "SELECT Modelo, AnoFab\n",
    "       FROM Taxi\n",
    "       GROUP BY Modelo;"
   ]
  },
  {
   "cell_type": "markdown",
   "metadata": {},
   "source": [
    "### Modelo e Maior Ano de Fabricação\n",
    "#### Corrigindo com função de agregação\n",
    "\n",
    "Este exemplo escolhe o maior ano para cada Modelo agregado."
   ]
  },
  {
   "cell_type": "code",
   "execution_count": 37,
   "metadata": {},
   "outputs": [
    {
     "data": {
      "application/vnd.jupyter.widget-view+json": {
       "model_id": "e9b1d513-1d86-4295-8a72-3f9c86eed6a6",
       "version_major": 2,
       "version_minor": 0
      },
      "method": "display_data"
     },
     "metadata": {},
     "output_type": "display_data"
    }
   ],
   "source": [
    "SELECT Modelo, MAX(AnoFab)\n",
    "       FROM Taxi\n",
    "       GROUP BY Modelo;"
   ]
  },
  {
   "cell_type": "markdown",
   "metadata": {},
   "source": [
    "# HAVING"
   ]
  },
  {
   "cell_type": "markdown",
   "metadata": {},
   "source": [
    "### Número de Táxis por Modelo somente para os Táxis com ano de fabricação abaixo de 2000\n",
    "\n",
    "Exemplo com `WHERE` em que a condição é aplicada antes de se agregar:"
   ]
  },
  {
   "cell_type": "code",
   "execution_count": 38,
   "metadata": {},
   "outputs": [
    {
     "data": {
      "application/vnd.jupyter.widget-view+json": {
       "model_id": "3755fd11-c608-4230-9d67-bb50be2bcd5f",
       "version_major": 2,
       "version_minor": 0
      },
      "method": "display_data"
     },
     "metadata": {},
     "output_type": "display_data"
    }
   ],
   "source": [
    "-- Todos os Táxis\n",
    "SELECT Modelo, AnoFab\n",
    "       FROM Taxi;"
   ]
  },
  {
   "cell_type": "code",
   "execution_count": 39,
   "metadata": {},
   "outputs": [
    {
     "data": {
      "application/vnd.jupyter.widget-view+json": {
       "model_id": "c38896be-3388-47a9-a22e-68cdca42bbbc",
       "version_major": 2,
       "version_minor": 0
      },
      "method": "display_data"
     },
     "metadata": {},
     "output_type": "display_data"
    }
   ],
   "source": [
    "SELECT Modelo, AnoFab\n",
    "       FROM Taxi\n",
    "       WHERE AnoFab < 2000;"
   ]
  },
  {
   "cell_type": "code",
   "execution_count": 40,
   "metadata": {},
   "outputs": [
    {
     "data": {
      "application/vnd.jupyter.widget-view+json": {
       "model_id": "8edab26a-9f2d-460f-be88-c52fde5fdad6",
       "version_major": 2,
       "version_minor": 0
      },
      "method": "display_data"
     },
     "metadata": {},
     "output_type": "display_data"
    }
   ],
   "source": [
    "-- Selecionados e Agregados\n",
    "SELECT Modelo, COUNT(*) NUM\n",
    "       FROM Taxi\n",
    "       WHERE AnoFab < 2000\n",
    "       GROUP BY Modelo;"
   ]
  },
  {
   "cell_type": "markdown",
   "metadata": {},
   "source": [
    "### Modelos de Táxi que têm mais de um Táxi do respectivo modelo\n",
    "\n",
    "Exemplo com `HAVING` em que a condição é aplicada após se agregar:"
   ]
  },
  {
   "cell_type": "code",
   "execution_count": 41,
   "metadata": {},
   "outputs": [
    {
     "data": {
      "application/vnd.jupyter.widget-view+json": {
       "model_id": "ec5a9c5c-bb27-4f39-b08d-58eaa6489194",
       "version_major": 2,
       "version_minor": 0
      },
      "method": "display_data"
     },
     "metadata": {},
     "output_type": "display_data"
    }
   ],
   "source": [
    "-- Agrupamento\n",
    "SELECT Modelo, COUNT(*) NUM\n",
    "       FROM Taxi\n",
    "       GROUP BY Modelo;"
   ]
  },
  {
   "cell_type": "code",
   "execution_count": 42,
   "metadata": {},
   "outputs": [
    {
     "data": {
      "application/vnd.jupyter.widget-view+json": {
       "model_id": "64608e1e-f8b0-46ee-acc7-2a0a6fb06be5",
       "version_major": 2,
       "version_minor": 0
      },
      "method": "display_data"
     },
     "metadata": {},
     "output_type": "display_data"
    }
   ],
   "source": [
    "-- Agrupamento com HAVING\n",
    "SELECT Modelo, COUNT(*) NUM\n",
    "       FROM Taxi\n",
    "       GROUP BY Modelo\n",
    "       HAVING NUM > 1;"
   ]
  },
  {
   "cell_type": "markdown",
   "metadata": {},
   "source": [
    "## `HAVING` apenas para campos agregados \n",
    "\n",
    "### Modelos daqueles Táxis com ano de fabricação acima de 2000\n",
    "\n",
    "A seleção a seguir produzirá um erro pois está se aplicando uma condição `HAVING` para um campo não agregado. Deveria ter sido usado `WHERE` como foi feito anteriormente."
   ]
  },
  {
   "cell_type": "code",
   "execution_count": 43,
   "metadata": {},
   "outputs": [
    {
     "ename": "org.h2.jdbc.JdbcSQLException",
     "evalue": " Column \"ANOFAB\" must be in the GROUP BY list; SQL statement",
     "output_type": "error",
     "traceback": [
      "\u001b[1;31morg.h2.jdbc.JdbcSQLException: Column \"ANOFAB\" must be in the GROUP BY list; SQL statement:\u001b[0;0m",
      "\u001b[1;31mSELECT Modelo, COUNT(*) NUM\u001b[0;0m",
      "\u001b[1;31mFROM Taxi\u001b[0;0m",
      "\u001b[1;31mGROUP BY Modelo\u001b[0;0m",
      "\u001b[1;31mHAVING AnoFab > 2000 [90016-193]\u001b[0;0m"
     ]
    }
   ],
   "source": [
    "SELECT Modelo, COUNT(*) NUM\n",
    "       FROM Taxi\n",
    "       GROUP BY Modelo\n",
    "       HAVING AnoFab > 2000;"
   ]
  },
  {
   "cell_type": "markdown",
   "metadata": {},
   "source": [
    "## Exemplo de `HAVING` com funções de agregação\n",
    "\n",
    "### Modelos de Táxi cujo menor Ano de Fabricação seja após 2000"
   ]
  },
  {
   "cell_type": "code",
   "execution_count": 44,
   "metadata": {},
   "outputs": [
    {
     "data": {
      "application/vnd.jupyter.widget-view+json": {
       "model_id": "37371f14-eee5-4574-b883-5ccc64b7834c",
       "version_major": 2,
       "version_minor": 0
      },
      "method": "display_data"
     },
     "metadata": {},
     "output_type": "display_data"
    }
   ],
   "source": [
    "-- sem agregacao (nao eh possível resolver a questao)\n",
    "SELECT Modelo, AnoFab\n",
    "       FROM Taxi\n",
    "       WHERE AnoFab < 2000;"
   ]
  },
  {
   "cell_type": "code",
   "execution_count": 45,
   "metadata": {},
   "outputs": [
    {
     "data": {
      "application/vnd.jupyter.widget-view+json": {
       "model_id": "93f52f16-b45c-4507-b507-eeda15056c4f",
       "version_major": 2,
       "version_minor": 0
      },
      "method": "display_data"
     },
     "metadata": {},
     "output_type": "display_data"
    }
   ],
   "source": [
    "-- testando após a agregação\n",
    "SELECT Modelo, MAX(AnoFab) MaiorAno\n",
    "       FROM Taxi\n",
    "       GROUP BY Modelo\n",
    "       HAVING MaiorAno < 2000;"
   ]
  },
  {
   "cell_type": "markdown",
   "metadata": {},
   "source": [
    "# VIEW\n",
    "\n",
    "### Total de Táxis por Modelo\n",
    "\n",
    "Agrupamento sem o uso de `VIEW`:"
   ]
  },
  {
   "cell_type": "code",
   "execution_count": 46,
   "metadata": {},
   "outputs": [
    {
     "data": {
      "application/vnd.jupyter.widget-view+json": {
       "model_id": "ba920327-911c-47cf-ad07-36a7e9cb8927",
       "version_major": 2,
       "version_minor": 0
      },
      "method": "display_data"
     },
     "metadata": {},
     "output_type": "display_data"
    }
   ],
   "source": [
    "SELECT Modelo, COUNT(*) Numero_Taxis\n",
    "       FROM taxi\n",
    "       GROUP BY Modelo;"
   ]
  },
  {
   "cell_type": "markdown",
   "metadata": {},
   "source": [
    "### Tabela de Total de Táxis por Modelo\n",
    "\n",
    "Transformando o agrupamento na tabela `Contagem_Modelo` com o `VIEW`:"
   ]
  },
  {
   "cell_type": "code",
   "execution_count": 47,
   "metadata": {},
   "outputs": [
    {
     "data": {
      "application/vnd.jupyter.widget-view+json": {
       "model_id": "98561721-ba65-42de-af11-d99b5d078f40",
       "version_major": 2,
       "version_minor": 0
      },
      "method": "display_data"
     },
     "metadata": {},
     "output_type": "display_data"
    }
   ],
   "source": [
    "CREATE VIEW Contagem_Modelo AS\n",
    "SELECT Modelo, COUNT(*) Numero_Taxis\n",
    "       FROM taxi\n",
    "       GROUP BY Modelo;\n",
    "\n",
    "SELECT * FROM Contagem_Modelo;"
   ]
  },
  {
   "cell_type": "markdown",
   "metadata": {},
   "source": [
    "Usando a tabela criada com a `VIEW`:"
   ]
  },
  {
   "cell_type": "code",
   "execution_count": 48,
   "metadata": {},
   "outputs": [
    {
     "data": {
      "text/plain": [
       "2"
      ]
     },
     "execution_count": 48,
     "metadata": {},
     "output_type": "execute_result"
    }
   ],
   "source": [
    "SELECT MAX(Numero_Taxis) FROM Contagem_Modelo;"
   ]
  },
  {
   "cell_type": "markdown",
   "metadata": {},
   "source": [
    "## VIEW se auto-atualiza\n",
    "\n",
    "A view é um recorte dinâmico, ela se auto-atualiza quando a tabela original é modificada."
   ]
  },
  {
   "cell_type": "code",
   "execution_count": 49,
   "metadata": {},
   "outputs": [
    {
     "data": {
      "application/vnd.jupyter.widget-view+json": {
       "model_id": "1d67a773-cb25-4f6b-b232-8422c5e63ec1",
       "version_major": 2,
       "version_minor": 0
      },
      "method": "display_data"
     },
     "metadata": {},
     "output_type": "display_data"
    }
   ],
   "source": [
    "INSERT INTO Taxi VALUES ('KMN3412', 'Chevrolet', 'Corsa', 2001, 'QJ572345');\n",
    "SELECT * FROM Contagem_Modelo;"
   ]
  }
 ],
 "metadata": {
  "kernelspec": {
   "display_name": "SQL",
   "language": "SQL",
   "name": "sql"
  },
  "language_info": {
   "codemirror_mode": "sql",
   "file_extension": ".sql",
   "mimetype": "",
   "name": "SQL",
   "nbconverter_exporter": "",
   "version": ""
  },
  "toc": {
   "base_numbering": 1,
   "nav_menu": {},
   "number_sections": false,
   "sideBar": false,
   "skip_h1_title": false,
   "title_cell": "Table of Contents",
   "title_sidebar": "Contents",
   "toc_cell": false,
   "toc_position": {},
   "toc_section_display": false,
   "toc_window_display": false
  }
 },
 "nbformat": 4,
 "nbformat_minor": 2
}
