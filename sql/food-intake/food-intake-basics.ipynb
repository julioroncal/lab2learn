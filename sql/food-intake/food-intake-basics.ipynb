{
 "cells": [
  {
   "cell_type": "markdown",
   "metadata": {},
   "source": [
    "# Food Intake \n",
    "\n",
    "Ativando uma conexão de banco de dados em memória usando o SGBD H2:"
   ]
  },
  {
   "cell_type": "code",
   "execution_count": 1,
   "metadata": {},
   "outputs": [],
   "source": [
    "%defaultDatasource jdbc:h2:mem:db"
   ]
  },
  {
   "cell_type": "markdown",
   "metadata": {},
   "source": [
    "## Conjunto de tabelas para consultas básicas"
   ]
  },
  {
   "cell_type": "code",
   "execution_count": 2,
   "metadata": {},
   "outputs": [],
   "source": [
    "DROP TABLE IF EXISTS Intake;\n",
    "\n",
    "CREATE TABLE Intake (\n",
    "  SeqN INTEGER NOT NULL,\n",
    "  DayCode TINYINT NOT NULL,\n",
    "  DraBF TINYINT,\n",
    "  FCID_Code VARCHAR(10),\n",
    "  Cooked_Status TINYINT,\n",
    "  Food_Form TINYINT,\n",
    "  Cooking_Method TINYINT,\n",
    "  Intake DECIMAL(13,7),\n",
    "  Intake_BW DECIMAL(13,10),\n",
    "  PRIMARY KEY(SeqN, DayCode, FCID_Code, Cooked_Status, Food_Form, Cooking_Method)\n",
    ") AS SELECT\n",
    "  SEQN, DAYCODE, DRABF, FCID_Code, Cooked_Status, Food_Form, Cooking_Method, Intake,Intake_BW\n",
    "FROM CSVREAD('../../data/food-intake/consumption/Commodity_CSFFM_Intake_0510-cropped.csv');"
   ]
  },
  {
   "cell_type": "code",
   "execution_count": 3,
   "metadata": {},
   "outputs": [],
   "source": [
    "DROP TABLE IF EXISTS Recipes;\n",
    "\n",
    "CREATE TABLE Recipes (\n",
    "  Food_Code VARCHAR(8),\n",
    "  Mod_Code VARCHAR(8),\n",
    "  Ingredient_Num TINYINT,\n",
    "  FCID_Code VARCHAR(10),\n",
    "  Cooked_Status TINYINT,\n",
    "  Food_Form TINYINT,\n",
    "  Cooking_Method TINYINT,\n",
    "  Commodity_Weight DECIMAL(5, 2),\n",
    "  CSFII_9498_IND TINYINT,\n",
    "  WWEIA_9904_IND TINYINT,\n",
    "  WWEIA_0510_IND TINYINT,\n",
    "  PRIMARY KEY(Food_Code, Mod_Code, Ingredient_Num)\n",
    ") AS SELECT\n",
    "  Food_Code, Mod_Code, Ingredient_Num, FCID_Code, Cooked_Status, Food_Form, Cooking_Method,\n",
    "  Commodity_Weight, CSFII_9498_IND, WWEIA_9904_IND, WWEIA_0510_IND\n",
    "FROM CSVREAD('../../data/food-intake/recipes/Recipes_WWEIA_FCID_0510.csv');"
   ]
  },
  {
   "cell_type": "code",
   "execution_count": 4,
   "metadata": {},
   "outputs": [],
   "source": [
    "DROP TABLE IF EXISTS FCID_Description;\n",
    "\n",
    "CREATE TABLE FCID_Description (\n",
    "  CGN VARCHAR(2),\n",
    "  CG_Subgroup VARCHAR(6),\n",
    "  FCID_Code VARCHAR(10),\n",
    "  FCID_Desc VARCHAR(55),\n",
    "  PRIMARY KEY (FCID_Code)\n",
    ") AS SELECT\n",
    "  cgn, CG_Subgroup, FCID_Code, FCID_Desc\n",
    "FROM CSVREAD('../../data/food-intake/basics/FCID_Code_Description.csv');"
   ]
  },
  {
   "cell_type": "markdown",
   "metadata": {},
   "source": [
    "# SELECT Básico"
   ]
  },
  {
   "cell_type": "markdown",
   "metadata": {},
   "source": [
    "### Todos os Táxis com todos os atributos"
   ]
  },
  {
   "cell_type": "code",
   "execution_count": 5,
   "metadata": {
    "scrolled": false
   },
   "outputs": [
    {
     "data": {
      "application/vnd.jupyter.widget-view+json": {
       "model_id": "d7c301dc-df9b-4741-856e-46638ef6c9ff",
       "version_major": 2,
       "version_minor": 0
      },
      "method": "display_data"
     },
     "metadata": {},
     "output_type": "display_data"
    }
   ],
   "source": [
    "SELECT * FROM Intake LIMIT 10;"
   ]
  },
  {
   "cell_type": "code",
   "execution_count": 6,
   "metadata": {},
   "outputs": [
    {
     "data": {
      "application/vnd.jupyter.widget-view+json": {
       "model_id": "1d0eed64-d733-4953-9cbf-043e60f63c74",
       "version_major": 2,
       "version_minor": 0
      },
      "method": "display_data"
     },
     "metadata": {},
     "output_type": "display_data"
    }
   ],
   "source": [
    "SELECT * FROM Recipes LIMIT 10;"
   ]
  },
  {
   "cell_type": "code",
   "execution_count": 7,
   "metadata": {},
   "outputs": [
    {
     "data": {
      "application/vnd.jupyter.widget-view+json": {
       "model_id": "316c8236-8d1c-4c0e-a13e-82d8f4ca00d9",
       "version_major": 2,
       "version_minor": 0
      },
      "method": "display_data"
     },
     "metadata": {},
     "output_type": "display_data"
    }
   ],
   "source": [
    "SELECT * FROM Recipes WHERE Food_Code = '27111300' AND Mod_Code = 0;"
   ]
  },
  {
   "cell_type": "code",
   "execution_count": 8,
   "metadata": {},
   "outputs": [
    {
     "data": {
      "text/plain": [
       "99.79"
      ]
     },
     "execution_count": 8,
     "metadata": {},
     "output_type": "execute_result"
    }
   ],
   "source": [
    "SELECT SUM(Commodity_Weight) FROM Recipes WHERE Food_Code = '27111300' AND Mod_Code = 0;"
   ]
  },
  {
   "cell_type": "code",
   "execution_count": 9,
   "metadata": {},
   "outputs": [
    {
     "data": {
      "text/plain": [
       "32776"
      ]
     },
     "execution_count": 9,
     "metadata": {},
     "output_type": "execute_result"
    }
   ],
   "source": [
    "SELECT MAX(SeqN) FROM Intake;"
   ]
  },
  {
   "cell_type": "code",
   "execution_count": 10,
   "metadata": {},
   "outputs": [
    {
     "data": {
      "text/plain": [
       "7154"
      ]
     },
     "execution_count": 10,
     "metadata": {},
     "output_type": "execute_result"
    }
   ],
   "source": [
    "SELECT COUNT(DISTINCT Food_Code) FROM Recipes;"
   ]
  },
  {
   "cell_type": "code",
   "execution_count": 11,
   "metadata": {},
   "outputs": [
    {
     "data": {
      "application/vnd.jupyter.widget-view+json": {
       "model_id": "df4b4f02-504f-46ea-8488-42f328e1b9e6",
       "version_major": 2,
       "version_minor": 0
      },
      "method": "display_data"
     },
     "metadata": {},
     "output_type": "display_data"
    }
   ],
   "source": [
    "DROP VIEW IF EXISTS Participation_Profile;\n",
    "\n",
    "CREATE VIEW Participation_Profile AS\n",
    "SELECT R.FCID_Code, COUNT(DISTINCT (R.Food_Code, R.Mod_Code)) Participation\n",
    "FROM Recipes R\n",
    "GROUP BY R.FCID_Code;\n",
    "\n",
    "SELECT * FROM Participation_Profile LIMIT 10;"
   ]
  },
  {
   "cell_type": "code",
   "execution_count": 12,
   "metadata": {},
   "outputs": [
    {
     "data": {
      "text/plain": [
       "100000"
      ]
     },
     "execution_count": 12,
     "metadata": {},
     "output_type": "execute_result"
    }
   ],
   "source": [
    "SELECT COUNT(*) FROM Intake;"
   ]
  },
  {
   "cell_type": "code",
   "execution_count": 13,
   "metadata": {},
   "outputs": [
    {
     "data": {
      "text/plain": [
       "1489"
      ]
     },
     "execution_count": 13,
     "metadata": {},
     "output_type": "execute_result"
    }
   ],
   "source": [
    "SELECT COUNT(DISTINCT SEQN) FROM Intake;"
   ]
  },
  {
   "cell_type": "code",
   "execution_count": 14,
   "metadata": {
    "scrolled": true
   },
   "outputs": [],
   "source": [
    "DROP VIEW IF EXISTS Commodity_Profile;\n",
    "\n",
    "CREATE VIEW Commodity_Profile\n",
    "AS SELECT I.FCID_Code, F.FCID_Desc, F.CGN, F.CG_Subgroup, COUNT(DISTINCT I.SeqN) Popularity,\n",
    "          SUM(I.Intake) Intake_Sum, AVG(I.Intake) Intake_AVG,\n",
    "          AVG(I.Intake_BW) Intake_BW_AVG, P.Participation Recipes\n",
    "FROM Intake I, FCID_Description F, Participation_Profile P\n",
    "WHERE I.FCID_Code = F.FCID_Code AND I.FCID_Code = P.FCID_Code\n",
    "GROUP BY I.FCID_Code;"
   ]
  },
  {
   "cell_type": "code",
   "execution_count": 15,
   "metadata": {},
   "outputs": [
    {
     "ename": "org.h2.jdbc.JdbcSQLException",
     "evalue": " Column \"CONSUMPTION\" not found; SQL statement",
     "output_type": "error",
     "traceback": [
      "\u001b[1;31morg.h2.jdbc.JdbcSQLException: Column \"CONSUMPTION\" not found; SQL statement:\u001b[0;0m",
      "\u001b[1;31mSELECT SUM(Consumption) FROM Commodity_Profile [42122-193]\u001b[0;0m"
     ]
    }
   ],
   "source": [
    "SELECT SUM(Consumption) FROM Commodity_Profile;"
   ]
  },
  {
   "cell_type": "code",
   "execution_count": 16,
   "metadata": {},
   "outputs": [
    {
     "data": {
      "text/plain": [
       "368"
      ]
     },
     "execution_count": 16,
     "metadata": {},
     "output_type": "execute_result"
    }
   ],
   "source": [
    "CALL CSVWRITE('../../data/food-intake/computed/commodity-profile.csv',\n",
    "              'SELECT * FROM Commodity_Profile');"
   ]
  },
  {
   "cell_type": "code",
   "execution_count": null,
   "metadata": {},
   "outputs": [],
   "source": []
  },
  {
   "cell_type": "markdown",
   "metadata": {},
   "source": [
    "### Taxis fabricados depois do ano 2000"
   ]
  },
  {
   "cell_type": "code",
   "execution_count": 17,
   "metadata": {},
   "outputs": [
    {
     "ename": "org.h2.jdbc.JdbcSQLException",
     "evalue": " Table \"TAXI\" not found; SQL statement",
     "output_type": "error",
     "traceback": [
      "\u001b[1;31morg.h2.jdbc.JdbcSQLException: Table \"TAXI\" not found; SQL statement:\u001b[0;0m",
      "\u001b[1;31mSELECT * FROM Taxi WHERE AnoFab > 2000 [42102-193]\u001b[0;0m"
     ]
    }
   ],
   "source": [
    "SELECT * FROM Taxi WHERE AnoFab > 2000;"
   ]
  },
  {
   "cell_type": "markdown",
   "metadata": {},
   "source": [
    "### Placas que comecem com DK"
   ]
  },
  {
   "cell_type": "code",
   "execution_count": 18,
   "metadata": {},
   "outputs": [
    {
     "ename": "org.h2.jdbc.JdbcSQLException",
     "evalue": " Table \"TAXI\" not found; SQL statement",
     "output_type": "error",
     "traceback": [
      "\u001b[1;31morg.h2.jdbc.JdbcSQLException: Table \"TAXI\" not found; SQL statement:\u001b[0;0m",
      "\u001b[1;31mSELECT * FROM Taxi WHERE placa LIKE 'DK%' [42102-193]\u001b[0;0m"
     ]
    }
   ],
   "source": [
    "SELECT * FROM Taxi WHERE placa LIKE 'DK%';"
   ]
  },
  {
   "cell_type": "markdown",
   "metadata": {},
   "source": [
    "### Placas com '7' na penultima posicao"
   ]
  },
  {
   "cell_type": "code",
   "execution_count": 19,
   "metadata": {},
   "outputs": [
    {
     "ename": "org.h2.jdbc.JdbcSQLException",
     "evalue": " Table \"TAXI\" not found; SQL statement",
     "output_type": "error",
     "traceback": [
      "\u001b[1;31morg.h2.jdbc.JdbcSQLException: Table \"TAXI\" not found; SQL statement:\u001b[0;0m",
      "\u001b[1;31mSELECT * FROM Taxi WHERE placa LIKE '%7_' [42102-193]\u001b[0;0m"
     ]
    }
   ],
   "source": [
    "SELECT * FROM Taxi WHERE placa LIKE '%7_';"
   ]
  },
  {
   "cell_type": "markdown",
   "metadata": {},
   "source": [
    "# Produto Cartesiano"
   ]
  },
  {
   "cell_type": "markdown",
   "metadata": {},
   "source": [
    "### Produto Cartesiano entre Clientes e Corridas"
   ]
  },
  {
   "cell_type": "code",
   "execution_count": 20,
   "metadata": {},
   "outputs": [
    {
     "ename": "org.h2.jdbc.JdbcSQLException",
     "evalue": " Table \"CLIENTE\" not found; SQL statement",
     "output_type": "error",
     "traceback": [
      "\u001b[1;31morg.h2.jdbc.JdbcSQLException: Table \"CLIENTE\" not found; SQL statement:\u001b[0;0m",
      "\u001b[1;31mSELECT Cliente.CliId, Cliente.Nome, Corrida.Placa, Corrida.DataPedido\u001b[0;0m",
      "\u001b[1;31mFROM Cliente, Corrida [42102-193]\u001b[0;0m"
     ]
    }
   ],
   "source": [
    "SELECT Cliente.CliId, Cliente.Nome, Corrida.Placa, Corrida.DataPedido\n",
    "FROM Cliente, Corrida"
   ]
  },
  {
   "cell_type": "markdown",
   "metadata": {},
   "source": [
    "# JOIN Implícito"
   ]
  },
  {
   "cell_type": "markdown",
   "metadata": {},
   "source": [
    "### Cientes e as respectivas corridas - Join Implícito"
   ]
  },
  {
   "cell_type": "code",
   "execution_count": 21,
   "metadata": {},
   "outputs": [
    {
     "ename": "org.h2.jdbc.JdbcSQLException",
     "evalue": " Table \"CLIENTE\" not found; SQL statement",
     "output_type": "error",
     "traceback": [
      "\u001b[1;31morg.h2.jdbc.JdbcSQLException: Table \"CLIENTE\" not found; SQL statement:\u001b[0;0m",
      "\u001b[1;31mSELECT Cliente.CliId, Cliente.Nome, Corrida.Placa, Corrida.DataPedido\u001b[0;0m",
      "\u001b[1;31mFROM Cliente, Corrida\u001b[0;0m",
      "\u001b[1;31mWHERE Cliente.CliId = Corrida.CliId [42102-193]\u001b[0;0m"
     ]
    }
   ],
   "source": [
    "SELECT Cliente.CliId, Cliente.Nome, Corrida.Placa, Corrida.DataPedido\n",
    "FROM Cliente, Corrida\n",
    "WHERE Cliente.CliId = Corrida.CliId"
   ]
  },
  {
   "cell_type": "markdown",
   "metadata": {},
   "source": [
    "### Modelo de taxi para cada corrida"
   ]
  },
  {
   "cell_type": "code",
   "execution_count": 22,
   "metadata": {},
   "outputs": [
    {
     "ename": "org.h2.jdbc.JdbcSQLException",
     "evalue": " Table \"CORRIDA\" not found; SQL statement",
     "output_type": "error",
     "traceback": [
      "\u001b[1;31morg.h2.jdbc.JdbcSQLException: Table \"CORRIDA\" not found; SQL statement:\u001b[0;0m",
      "\u001b[1;31mSELECT Corrida.DataPedido, Corrida.Placa, Taxi.Modelo\u001b[0;0m",
      "\u001b[1;31mFROM Corrida, Taxi\u001b[0;0m",
      "\u001b[1;31mWHERE Corrida.Placa = Taxi.Placa [42102-193]\u001b[0;0m"
     ]
    }
   ],
   "source": [
    "SELECT Corrida.DataPedido, Corrida.Placa, Taxi.Modelo\n",
    "       FROM Corrida, Taxi\n",
    "       WHERE Corrida.Placa = Taxi.Placa;"
   ]
  },
  {
   "cell_type": "markdown",
   "metadata": {},
   "source": [
    "### Modelos de Táxi por Cliente (estágio 1)"
   ]
  },
  {
   "cell_type": "code",
   "execution_count": 23,
   "metadata": {},
   "outputs": [
    {
     "ename": "org.h2.jdbc.JdbcSQLException",
     "evalue": " Table \"CLIENTE\" not found; SQL statement",
     "output_type": "error",
     "traceback": [
      "\u001b[1;31morg.h2.jdbc.JdbcSQLException: Table \"CLIENTE\" not found; SQL statement:\u001b[0;0m",
      "\u001b[1;31mSELECT Cliente.Nome, Corrida.DataPedido, Corrida.Placa, Taxi.Modelo\u001b[0;0m",
      "\u001b[1;31mFROM Cliente, Corrida, Taxi\u001b[0;0m",
      "\u001b[1;31mWHERE Cliente.CliId = Corrida.CliId AND Corrida.Placa = Taxi.Placa [42102-193]\u001b[0;0m"
     ]
    }
   ],
   "source": [
    "SELECT Cliente.Nome, Corrida.DataPedido, Corrida.Placa, Taxi.Modelo\n",
    "       FROM Cliente, Corrida, Taxi\n",
    "       WHERE Cliente.CliId = Corrida.CliId AND Corrida.Placa = Taxi.Placa;"
   ]
  },
  {
   "cell_type": "markdown",
   "metadata": {},
   "source": [
    "### Modelos de Táxi por Cliente (estágio 2)"
   ]
  },
  {
   "cell_type": "code",
   "execution_count": 24,
   "metadata": {},
   "outputs": [
    {
     "ename": "org.h2.jdbc.JdbcSQLException",
     "evalue": " Table \"CLIENTE\" not found; SQL statement",
     "output_type": "error",
     "traceback": [
      "\u001b[1;31morg.h2.jdbc.JdbcSQLException: Table \"CLIENTE\" not found; SQL statement:\u001b[0;0m",
      "\u001b[1;31mSELECT DISTINCT Cliente.Nome, Taxi.Modelo\u001b[0;0m",
      "\u001b[1;31mFROM Cliente, Corrida, Taxi\u001b[0;0m",
      "\u001b[1;31mWHERE Cliente.CliId = Corrida.CliId AND Corrida.Placa = Taxi.Placa [42102-193]\u001b[0;0m"
     ]
    }
   ],
   "source": [
    "SELECT DISTINCT Cliente.Nome, Taxi.Modelo\n",
    "       FROM Cliente, Corrida, Taxi\n",
    "       WHERE Cliente.CliId = Corrida.CliId AND Corrida.Placa = Taxi.Placa;"
   ]
  },
  {
   "cell_type": "markdown",
   "metadata": {},
   "source": [
    "## ORDER BY"
   ]
  },
  {
   "cell_type": "markdown",
   "metadata": {},
   "source": [
    "### Nome dos clientes ordenado alfabeticamente"
   ]
  },
  {
   "cell_type": "code",
   "execution_count": 25,
   "metadata": {},
   "outputs": [
    {
     "ename": "org.h2.jdbc.JdbcSQLException",
     "evalue": " Table \"CLIENTE\" not found; SQL statement",
     "output_type": "error",
     "traceback": [
      "\u001b[1;31morg.h2.jdbc.JdbcSQLException: Table \"CLIENTE\" not found; SQL statement:\u001b[0;0m",
      "\u001b[1;31mSELECT Nome\u001b[0;0m",
      "\u001b[1;31mFROM Cliente\u001b[0;0m",
      "\u001b[1;31mORDER BY Nome [42102-193]\u001b[0;0m"
     ]
    }
   ],
   "source": [
    "SELECT Nome\n",
    "       FROM Cliente\n",
    "       ORDER BY Nome;"
   ]
  },
  {
   "cell_type": "markdown",
   "metadata": {},
   "source": [
    "### Modelos de taxi e os clientes que os tomaram\n",
    "\n",
    "Ordena por Modelo, mas não por Cliente:"
   ]
  },
  {
   "cell_type": "code",
   "execution_count": 26,
   "metadata": {},
   "outputs": [
    {
     "ename": "org.h2.jdbc.JdbcSQLException",
     "evalue": " Table \"CLIENTE\" not found; SQL statement",
     "output_type": "error",
     "traceback": [
      "\u001b[1;31morg.h2.jdbc.JdbcSQLException: Table \"CLIENTE\" not found; SQL statement:\u001b[0;0m",
      "\u001b[1;31mSELECT DISTINCT Cl.Nome, T.Modelo\u001b[0;0m",
      "\u001b[1;31mFROM Cliente Cl, Corrida Co, Taxi T\u001b[0;0m",
      "\u001b[1;31mWHERE Cl.CliId = Co.CliId AND\u001b[0;0m",
      "\u001b[1;31mCo.Placa = T.Placa\u001b[0;0m",
      "\u001b[1;31mORDER BY T.Modelo [42102-193]\u001b[0;0m"
     ]
    }
   ],
   "source": [
    "SELECT DISTINCT Cl.Nome, T.Modelo\n",
    "       FROM Cliente Cl, Corrida Co, Taxi T\n",
    "       WHERE Cl.CliId = Co.CliId AND\n",
    "             Co.Placa = T.Placa\n",
    "       ORDER BY T.Modelo;"
   ]
  },
  {
   "cell_type": "markdown",
   "metadata": {},
   "source": [
    "Ordena por Modelo e, para cada Modelo, por Cliente:"
   ]
  },
  {
   "cell_type": "code",
   "execution_count": 27,
   "metadata": {},
   "outputs": [
    {
     "ename": "org.h2.jdbc.JdbcSQLException",
     "evalue": " Table \"CLIENTE\" not found; SQL statement",
     "output_type": "error",
     "traceback": [
      "\u001b[1;31morg.h2.jdbc.JdbcSQLException: Table \"CLIENTE\" not found; SQL statement:\u001b[0;0m",
      "\u001b[1;31mSELECT DISTINCT Cl.Nome, T.Modelo\u001b[0;0m",
      "\u001b[1;31mFROM Cliente Cl, Corrida Co, Taxi T\u001b[0;0m",
      "\u001b[1;31mWHERE Cl.CliId = Co.CliId AND\u001b[0;0m",
      "\u001b[1;31mCo.Placa = T.Placa\u001b[0;0m",
      "\u001b[1;31mORDER BY T.Modelo, Cl.Nome [42102-193]\u001b[0;0m"
     ]
    }
   ],
   "source": [
    "SELECT DISTINCT Cl.Nome, T.Modelo\n",
    "       FROM Cliente Cl, Corrida Co, Taxi T\n",
    "       WHERE Cl.CliId = Co.CliId AND\n",
    "             Co.Placa = T.Placa\n",
    "       ORDER BY T.Modelo, Cl.Nome;"
   ]
  },
  {
   "cell_type": "markdown",
   "metadata": {},
   "source": [
    "### Cliente e os modelos de taxi tomados\n",
    "Ordena por Cliente, mas não por Modelo:"
   ]
  },
  {
   "cell_type": "code",
   "execution_count": 28,
   "metadata": {},
   "outputs": [
    {
     "ename": "org.h2.jdbc.JdbcSQLException",
     "evalue": " Table \"CLIENTE\" not found; SQL statement",
     "output_type": "error",
     "traceback": [
      "\u001b[1;31morg.h2.jdbc.JdbcSQLException: Table \"CLIENTE\" not found; SQL statement:\u001b[0;0m",
      "\u001b[1;31mSELECT DISTINCT Cl.Nome, T.Modelo\u001b[0;0m",
      "\u001b[1;31mFROM Cliente Cl, Corrida Co, Taxi T\u001b[0;0m",
      "\u001b[1;31mWHERE Cl.CliId = Co.CliId AND\u001b[0;0m",
      "\u001b[1;31mCo.Placa = T.Placa\u001b[0;0m",
      "\u001b[1;31mORDER BY Cl.Nome [42102-193]\u001b[0;0m"
     ]
    }
   ],
   "source": [
    "SELECT DISTINCT Cl.Nome, T.Modelo\n",
    "       FROM Cliente Cl, Corrida Co, Taxi T\n",
    "       WHERE Cl.CliId = Co.CliId AND\n",
    "             Co.Placa = T.Placa\n",
    "       ORDER BY Cl.Nome;"
   ]
  },
  {
   "cell_type": "markdown",
   "metadata": {},
   "source": [
    "Ordena por Cliente e, para cada Cliente, por Modelo"
   ]
  },
  {
   "cell_type": "code",
   "execution_count": 29,
   "metadata": {},
   "outputs": [
    {
     "ename": "org.h2.jdbc.JdbcSQLException",
     "evalue": " Table \"CLIENTE\" not found; SQL statement",
     "output_type": "error",
     "traceback": [
      "\u001b[1;31morg.h2.jdbc.JdbcSQLException: Table \"CLIENTE\" not found; SQL statement:\u001b[0;0m",
      "\u001b[1;31mSELECT DISTINCT Cl.Nome, T.Modelo\u001b[0;0m",
      "\u001b[1;31mFROM Cliente Cl, Corrida Co, Taxi T\u001b[0;0m",
      "\u001b[1;31mWHERE Cl.CliId = Co.CliId AND\u001b[0;0m",
      "\u001b[1;31mCo.Placa = T.Placa\u001b[0;0m",
      "\u001b[1;31mORDER BY Cl.Nome, T.Modelo [42102-193]\u001b[0;0m"
     ]
    }
   ],
   "source": [
    "SELECT DISTINCT Cl.Nome, T.Modelo\n",
    "       FROM Cliente Cl, Corrida Co, Taxi T\n",
    "       WHERE Cl.CliId = Co.CliId AND\n",
    "             Co.Placa = T.Placa\n",
    "       ORDER BY Cl.Nome, T.Modelo;"
   ]
  },
  {
   "cell_type": "markdown",
   "metadata": {},
   "source": [
    "## JOIN explícito"
   ]
  },
  {
   "cell_type": "markdown",
   "metadata": {},
   "source": [
    "### Clientes e respectivas corridas (para clientes que fizeram corrida)"
   ]
  },
  {
   "cell_type": "code",
   "execution_count": 30,
   "metadata": {},
   "outputs": [
    {
     "ename": "org.h2.jdbc.JdbcSQLException",
     "evalue": " Table \"CLIENTE\" not found; SQL statement",
     "output_type": "error",
     "traceback": [
      "\u001b[1;31morg.h2.jdbc.JdbcSQLException: Table \"CLIENTE\" not found; SQL statement:\u001b[0;0m",
      "\u001b[1;31mSELECT Cl.CliId, Cl.Nome,\u001b[0;0m",
      "\u001b[1;31mCo.Placa, Co.DataPedido\u001b[0;0m",
      "\u001b[1;31mFROM Cliente Cl JOIN Corrida Co\u001b[0;0m",
      "\u001b[1;31mON Cl.CliId = Co.CliId [42102-193]\u001b[0;0m"
     ]
    }
   ],
   "source": [
    "SELECT Cl.CliId, Cl.Nome,\n",
    "       Co.Placa, Co.DataPedido\n",
    "       FROM Cliente Cl JOIN Corrida Co\n",
    "            ON Cl.CliId = Co.CliId;"
   ]
  },
  {
   "cell_type": "markdown",
   "metadata": {},
   "source": [
    "### Taxis e respectivas corridas (para taxis que fizeram corrida)"
   ]
  },
  {
   "cell_type": "code",
   "execution_count": 31,
   "metadata": {},
   "outputs": [
    {
     "ename": "org.h2.jdbc.JdbcSQLException",
     "evalue": " Table \"TAXI\" not found; SQL statement",
     "output_type": "error",
     "traceback": [
      "\u001b[1;31morg.h2.jdbc.JdbcSQLException: Table \"TAXI\" not found; SQL statement:\u001b[0;0m",
      "\u001b[1;31mSELECT Tx.placa, Co.cliid\u001b[0;0m",
      "\u001b[1;31mFROM Taxi Tx JOIN Corrida Co\u001b[0;0m",
      "\u001b[1;31mON Tx.placa = Co.placa [42102-193]\u001b[0;0m"
     ]
    }
   ],
   "source": [
    "SELECT Tx.placa, Co.cliid\n",
    "       FROM Taxi Tx JOIN Corrida Co\n",
    "            ON Tx.placa = Co.placa;"
   ]
  },
  {
   "cell_type": "markdown",
   "metadata": {},
   "source": [
    "## NATURAL JOIN"
   ]
  },
  {
   "cell_type": "code",
   "execution_count": 32,
   "metadata": {},
   "outputs": [
    {
     "ename": "org.h2.jdbc.JdbcSQLException",
     "evalue": " Table \"TAXI\" not found; SQL statement",
     "output_type": "error",
     "traceback": [
      "\u001b[1;31morg.h2.jdbc.JdbcSQLException: Table \"TAXI\" not found; SQL statement:\u001b[0;0m",
      "\u001b[1;31mSELECT Tx.placa, Co.cliid\u001b[0;0m",
      "\u001b[1;31mFROM Taxi Tx\u001b[0;0m",
      "\u001b[1;31mNATURAL JOIN Corrida Co [42102-193]\u001b[0;0m"
     ]
    }
   ],
   "source": [
    "SELECT Tx.placa, Co.cliid\n",
    "       FROM Taxi Tx\n",
    "            NATURAL JOIN Corrida Co;"
   ]
  },
  {
   "cell_type": "markdown",
   "metadata": {},
   "source": [
    "## LEFT JOIN\n",
    "\n",
    "### Clientes e respectivas corridas (para todos os clientes)"
   ]
  },
  {
   "cell_type": "code",
   "execution_count": 33,
   "metadata": {},
   "outputs": [
    {
     "ename": "org.h2.jdbc.JdbcSQLException",
     "evalue": " Table \"CLIENTE\" not found; SQL statement",
     "output_type": "error",
     "traceback": [
      "\u001b[1;31morg.h2.jdbc.JdbcSQLException: Table \"CLIENTE\" not found; SQL statement:\u001b[0;0m",
      "\u001b[1;31mSELECT Cl.CliId, Cl.Nome,\u001b[0;0m",
      "\u001b[1;31mCo.Placa, Co.DataPedido\u001b[0;0m",
      "\u001b[1;31mFROM Cliente Cl LEFT JOIN Corrida Co\u001b[0;0m",
      "\u001b[1;31mON Cl.CliId = Co.CliId [42102-193]\u001b[0;0m"
     ]
    }
   ],
   "source": [
    "SELECT Cl.CliId, Cl.Nome,\n",
    "       Co.Placa, Co.DataPedido\n",
    "       FROM Cliente Cl LEFT JOIN Corrida Co\n",
    "            ON Cl.CliId = Co.CliId;"
   ]
  },
  {
   "cell_type": "markdown",
   "metadata": {},
   "source": [
    "### Taxis e respectivas corridas (para todos os taxis)"
   ]
  },
  {
   "cell_type": "code",
   "execution_count": 34,
   "metadata": {},
   "outputs": [
    {
     "ename": "org.h2.jdbc.JdbcSQLException",
     "evalue": " Table \"TAXI\" not found; SQL statement",
     "output_type": "error",
     "traceback": [
      "\u001b[1;31morg.h2.jdbc.JdbcSQLException: Table \"TAXI\" not found; SQL statement:\u001b[0;0m",
      "\u001b[1;31mSELECT Tx.placa, Co.cliid\u001b[0;0m",
      "\u001b[1;31mFROM Taxi Tx LEFT JOIN Corrida Co\u001b[0;0m",
      "\u001b[1;31mON Tx.placa = Co.placa [42102-193]\u001b[0;0m"
     ]
    }
   ],
   "source": [
    "SELECT Tx.placa, Co.cliid\n",
    "       FROM Taxi Tx LEFT JOIN Corrida Co\n",
    "            ON Tx.placa = Co.placa;"
   ]
  },
  {
   "cell_type": "markdown",
   "metadata": {},
   "source": [
    "## RIGHT JOIN\n",
    "\n",
    "### Corridas e respectivos clientes (para todos os clientes)"
   ]
  },
  {
   "cell_type": "code",
   "execution_count": 35,
   "metadata": {},
   "outputs": [
    {
     "ename": "org.h2.jdbc.JdbcSQLException",
     "evalue": " Table \"CORRIDA\" not found; SQL statement",
     "output_type": "error",
     "traceback": [
      "\u001b[1;31morg.h2.jdbc.JdbcSQLException: Table \"CORRIDA\" not found; SQL statement:\u001b[0;0m",
      "\u001b[1;31mSELECT Co.placa, Cl.nome\u001b[0;0m",
      "\u001b[1;31mFROM Corrida Co RIGHT JOIN Cliente Cl\u001b[0;0m",
      "\u001b[1;31mON Co.cliid = Cl.cliid [42102-193]\u001b[0;0m"
     ]
    }
   ],
   "source": [
    "SELECT Co.placa, Cl.nome\n",
    "       FROM Corrida Co RIGHT JOIN Cliente Cl\n",
    "            ON Co.cliid = Cl.cliid;"
   ]
  },
  {
   "cell_type": "markdown",
   "metadata": {},
   "source": [
    "# GROUP BY"
   ]
  },
  {
   "cell_type": "markdown",
   "metadata": {},
   "source": [
    "### Modelos de Táxi cadastrados"
   ]
  },
  {
   "cell_type": "code",
   "execution_count": 36,
   "metadata": {},
   "outputs": [
    {
     "ename": "org.h2.jdbc.JdbcSQLException",
     "evalue": " Table \"TAXI\" not found; SQL statement",
     "output_type": "error",
     "traceback": [
      "\u001b[1;31morg.h2.jdbc.JdbcSQLException: Table \"TAXI\" not found; SQL statement:\u001b[0;0m",
      "\u001b[1;31mSELECT T.Modelo\u001b[0;0m",
      "\u001b[1;31mFROM Taxi T\u001b[0;0m",
      "\u001b[1;31mGROUP BY T.Modelo [42102-193]\u001b[0;0m"
     ]
    }
   ],
   "source": [
    "SELECT T.Modelo\n",
    "       FROM Taxi T\n",
    "       GROUP BY T.Modelo;"
   ]
  },
  {
   "cell_type": "markdown",
   "metadata": {},
   "source": [
    "### Total de Táxis por Modelo\n",
    "\n",
    "Modelos de Táxi cadastrados e quantos táxis há em cada modelo:"
   ]
  },
  {
   "cell_type": "code",
   "execution_count": 37,
   "metadata": {},
   "outputs": [
    {
     "ename": "org.h2.jdbc.JdbcSQLException",
     "evalue": " Table \"TAXI\" not found; SQL statement",
     "output_type": "error",
     "traceback": [
      "\u001b[1;31morg.h2.jdbc.JdbcSQLException: Table \"TAXI\" not found; SQL statement:\u001b[0;0m",
      "\u001b[1;31mSELECT T.Modelo, COUNT(*)\u001b[0;0m",
      "\u001b[1;31mFROM Taxi T\u001b[0;0m",
      "\u001b[1;31mGROUP BY T.Modelo [42102-193]\u001b[0;0m"
     ]
    }
   ],
   "source": [
    "SELECT T.Modelo, COUNT(*)\n",
    "       FROM Taxi T\n",
    "       GROUP BY T.Modelo;"
   ]
  },
  {
   "cell_type": "markdown",
   "metadata": {},
   "source": [
    "## Agregando em mais de um nível"
   ]
  },
  {
   "cell_type": "markdown",
   "metadata": {},
   "source": [
    "### Modelos de taxi tomados por cada cliente (agrupando por Cliente e por Modelo)"
   ]
  },
  {
   "cell_type": "code",
   "execution_count": 38,
   "metadata": {},
   "outputs": [
    {
     "ename": "org.h2.jdbc.JdbcSQLException",
     "evalue": " Table \"CLIENTE\" not found; SQL statement",
     "output_type": "error",
     "traceback": [
      "\u001b[1;31morg.h2.jdbc.JdbcSQLException: Table \"CLIENTE\" not found; SQL statement:\u001b[0;0m",
      "\u001b[1;31mSELECT Cl.Nome, T.Modelo\u001b[0;0m",
      "\u001b[1;31mFROM Cliente Cl, Corrida Co, Taxi T\u001b[0;0m",
      "\u001b[1;31mWHERE Cl.CliId = Co.CliId AND\u001b[0;0m",
      "\u001b[1;31mCo.Placa = T.Placa [42102-193]\u001b[0;0m"
     ]
    }
   ],
   "source": [
    "SELECT Cl.Nome, T.Modelo\n",
    "       FROM Cliente Cl, Corrida Co, Taxi T\n",
    "       WHERE Cl.CliId = Co.CliId AND\n",
    "             Co.Placa = T.Placa;"
   ]
  },
  {
   "cell_type": "code",
   "execution_count": 39,
   "metadata": {},
   "outputs": [
    {
     "ename": "org.h2.jdbc.JdbcSQLException",
     "evalue": " Table \"CLIENTE\" not found; SQL statement",
     "output_type": "error",
     "traceback": [
      "\u001b[1;31morg.h2.jdbc.JdbcSQLException: Table \"CLIENTE\" not found; SQL statement:\u001b[0;0m",
      "\u001b[1;31mSELECT DISTINCT Cl.Nome, T.Modelo\u001b[0;0m",
      "\u001b[1;31mFROM Cliente Cl, Corrida Co, Taxi T\u001b[0;0m",
      "\u001b[1;31mWHERE Cl.CliId = Co.CliId AND\u001b[0;0m",
      "\u001b[1;31mCo.Placa = T.Placa [42102-193]\u001b[0;0m"
     ]
    }
   ],
   "source": [
    "SELECT DISTINCT Cl.Nome, T.Modelo\n",
    "       FROM Cliente Cl, Corrida Co, Taxi T\n",
    "       WHERE Cl.CliId = Co.CliId AND\n",
    "             Co.Placa = T.Placa;"
   ]
  },
  {
   "cell_type": "code",
   "execution_count": 40,
   "metadata": {},
   "outputs": [
    {
     "ename": "org.h2.jdbc.JdbcSQLException",
     "evalue": " Table \"CLIENTE\" not found; SQL statement",
     "output_type": "error",
     "traceback": [
      "\u001b[1;31morg.h2.jdbc.JdbcSQLException: Table \"CLIENTE\" not found; SQL statement:\u001b[0;0m",
      "\u001b[1;31mSELECT Cl.Nome, T.Modelo\u001b[0;0m",
      "\u001b[1;31mFROM Cliente Cl, Corrida Co, Taxi T\u001b[0;0m",
      "\u001b[1;31mWHERE Cl.CliId = Co.CliId AND\u001b[0;0m",
      "\u001b[1;31mCo.Placa = T.Placa\u001b[0;0m",
      "\u001b[1;31mGROUP BY Cl.Nome, T.Modelo [42102-193]\u001b[0;0m"
     ]
    }
   ],
   "source": [
    "SELECT Cl.Nome, T.Modelo\n",
    "       FROM Cliente Cl, Corrida Co, Taxi T\n",
    "       WHERE Cl.CliId = Co.CliId AND\n",
    "             Co.Placa = T.Placa\n",
    "       GROUP BY Cl.Nome, T.Modelo;"
   ]
  },
  {
   "cell_type": "code",
   "execution_count": 41,
   "metadata": {},
   "outputs": [
    {
     "ename": "org.h2.jdbc.JdbcSQLException",
     "evalue": " Table \"CLIENTE\" not found; SQL statement",
     "output_type": "error",
     "traceback": [
      "\u001b[1;31morg.h2.jdbc.JdbcSQLException: Table \"CLIENTE\" not found; SQL statement:\u001b[0;0m",
      "\u001b[1;31mSELECT Cl.Nome, T.Modelo, COUNT(*)\u001b[0;0m",
      "\u001b[1;31mFROM Cliente Cl, Corrida Co, Taxi T\u001b[0;0m",
      "\u001b[1;31mWHERE Cl.CliId = Co.CliId AND\u001b[0;0m",
      "\u001b[1;31mCo.Placa = T.Placa\u001b[0;0m",
      "\u001b[1;31mGROUP BY Cl.Nome, T.Modelo [42102-193]\u001b[0;0m"
     ]
    }
   ],
   "source": [
    "SELECT Cl.Nome, T.Modelo, COUNT(*)\n",
    "       FROM Cliente Cl, Corrida Co, Taxi T \n",
    "       WHERE Cl.CliId = Co.CliId AND \n",
    "             Co.Placa = T.Placa\n",
    "       GROUP BY Cl.Nome, T.Modelo;"
   ]
  },
  {
   "cell_type": "markdown",
   "metadata": {},
   "source": [
    "## Funções de agregação sem agrupamento\n",
    "\n",
    "### Média de ano de fabricação para todos os Táxis\n",
    "\n",
    "Quando é usada função de agregação sem especificação de agrupamento, toda a tabela é agregada como se fosse um único grupo."
   ]
  },
  {
   "cell_type": "code",
   "execution_count": 42,
   "metadata": {},
   "outputs": [
    {
     "ename": "org.h2.jdbc.JdbcSQLException",
     "evalue": " Table \"TAXI\" not found; SQL statement",
     "output_type": "error",
     "traceback": [
      "\u001b[1;31morg.h2.jdbc.JdbcSQLException: Table \"TAXI\" not found; SQL statement:\u001b[0;0m",
      "\u001b[1;31mSELECT Modelo, AnoFab FROM Taxi [42102-193]\u001b[0;0m"
     ]
    }
   ],
   "source": [
    "SELECT Modelo, AnoFab FROM Taxi;"
   ]
  },
  {
   "cell_type": "code",
   "execution_count": 43,
   "metadata": {},
   "outputs": [
    {
     "ename": "org.h2.jdbc.JdbcSQLException",
     "evalue": " Table \"TAXI\" not found; SQL statement",
     "output_type": "error",
     "traceback": [
      "\u001b[1;31morg.h2.jdbc.JdbcSQLException: Table \"TAXI\" not found; SQL statement:\u001b[0;0m",
      "\u001b[1;31mSELECT Modelo, MIN(AnoFab), MAX(AnoFab), AVG(AnoFab)\u001b[0;0m",
      "\u001b[1;31mFROM Taxi\u001b[0;0m",
      "\u001b[1;31mGROUP BY Modelo [42102-193]\u001b[0;0m"
     ]
    }
   ],
   "source": [
    "SELECT Modelo, MIN(AnoFab), MAX(AnoFab), AVG(AnoFab)\n",
    "       FROM Taxi\n",
    "       GROUP BY Modelo;"
   ]
  },
  {
   "cell_type": "code",
   "execution_count": 44,
   "metadata": {},
   "outputs": [
    {
     "ename": "org.h2.jdbc.JdbcSQLException",
     "evalue": " Table \"TAXI\" not found; SQL statement",
     "output_type": "error",
     "traceback": [
      "\u001b[1;31morg.h2.jdbc.JdbcSQLException: Table \"TAXI\" not found; SQL statement:\u001b[0;0m",
      "\u001b[1;31mSELECT MAX(AnoFab) FROM Taxi [42102-193]\u001b[0;0m"
     ]
    }
   ],
   "source": [
    "-- Maior ano de fabricação de toda a tabela\n",
    "SELECT MAX(AnoFab) FROM Taxi;"
   ]
  },
  {
   "cell_type": "markdown",
   "metadata": {},
   "source": [
    "## Campos mostrados devem corresponder a agregação\n",
    "\n",
    "Exemplo sem agregação:"
   ]
  },
  {
   "cell_type": "code",
   "execution_count": 45,
   "metadata": {},
   "outputs": [
    {
     "ename": "org.h2.jdbc.JdbcSQLException",
     "evalue": " Table \"TAXI\" not found; SQL statement",
     "output_type": "error",
     "traceback": [
      "\u001b[1;31morg.h2.jdbc.JdbcSQLException: Table \"TAXI\" not found; SQL statement:\u001b[0;0m",
      "\u001b[1;31mSELECT Modelo, AnoFab\u001b[0;0m",
      "\u001b[1;31mFROM Taxi [42102-193]\u001b[0;0m"
     ]
    }
   ],
   "source": [
    "SELECT Modelo, AnoFab\n",
    "       FROM Taxi;"
   ]
  },
  {
   "cell_type": "markdown",
   "metadata": {},
   "source": [
    "### Modelo e Ano de Fabricação\n",
    "\n",
    "Este exemplo com agregação produzirá um erro pois `AnoFab` (ano de fabricação) não foi agregado, portanto, pode haver mais de um ano de fabricação para o mesmo modelo."
   ]
  },
  {
   "cell_type": "code",
   "execution_count": 46,
   "metadata": {},
   "outputs": [
    {
     "ename": "org.h2.jdbc.JdbcSQLException",
     "evalue": " Table \"TAXI\" not found; SQL statement",
     "output_type": "error",
     "traceback": [
      "\u001b[1;31morg.h2.jdbc.JdbcSQLException: Table \"TAXI\" not found; SQL statement:\u001b[0;0m",
      "\u001b[1;31mSELECT Modelo, AnoFab\u001b[0;0m",
      "\u001b[1;31mFROM Taxi\u001b[0;0m",
      "\u001b[1;31mGROUP BY Modelo [42102-193]\u001b[0;0m"
     ]
    }
   ],
   "source": [
    "SELECT Modelo, AnoFab\n",
    "       FROM Taxi\n",
    "       GROUP BY Modelo;"
   ]
  },
  {
   "cell_type": "markdown",
   "metadata": {},
   "source": [
    "### Modelo e Maior Ano de Fabricação\n",
    "#### Corrigindo com função de agregação\n",
    "\n",
    "Este exemplo escolhe o maior ano para cada Modelo agregado."
   ]
  },
  {
   "cell_type": "code",
   "execution_count": 47,
   "metadata": {},
   "outputs": [
    {
     "ename": "org.h2.jdbc.JdbcSQLException",
     "evalue": " Table \"TAXI\" not found; SQL statement",
     "output_type": "error",
     "traceback": [
      "\u001b[1;31morg.h2.jdbc.JdbcSQLException: Table \"TAXI\" not found; SQL statement:\u001b[0;0m",
      "\u001b[1;31mSELECT Modelo, MAX(AnoFab)\u001b[0;0m",
      "\u001b[1;31mFROM Taxi\u001b[0;0m",
      "\u001b[1;31mGROUP BY Modelo [42102-193]\u001b[0;0m"
     ]
    }
   ],
   "source": [
    "SELECT Modelo, MAX(AnoFab)\n",
    "       FROM Taxi\n",
    "       GROUP BY Modelo;"
   ]
  },
  {
   "cell_type": "markdown",
   "metadata": {},
   "source": [
    "# HAVING"
   ]
  },
  {
   "cell_type": "markdown",
   "metadata": {},
   "source": [
    "### Número de Táxis por Modelo somente para os Táxis com ano de fabricação abaixo de 2000\n",
    "\n",
    "Exemplo com `WHERE` em que a condição é aplicada antes de se agregar:"
   ]
  },
  {
   "cell_type": "code",
   "execution_count": 48,
   "metadata": {},
   "outputs": [
    {
     "ename": "org.h2.jdbc.JdbcSQLException",
     "evalue": " Table \"TAXI\" not found; SQL statement",
     "output_type": "error",
     "traceback": [
      "\u001b[1;31morg.h2.jdbc.JdbcSQLException: Table \"TAXI\" not found; SQL statement:\u001b[0;0m",
      "\u001b[1;31mSELECT Modelo, AnoFab\u001b[0;0m",
      "\u001b[1;31mFROM Taxi [42102-193]\u001b[0;0m"
     ]
    }
   ],
   "source": [
    "-- Todos os Táxis\n",
    "SELECT Modelo, AnoFab\n",
    "       FROM Taxi;"
   ]
  },
  {
   "cell_type": "code",
   "execution_count": 49,
   "metadata": {},
   "outputs": [
    {
     "ename": "org.h2.jdbc.JdbcSQLException",
     "evalue": " Table \"TAXI\" not found; SQL statement",
     "output_type": "error",
     "traceback": [
      "\u001b[1;31morg.h2.jdbc.JdbcSQLException: Table \"TAXI\" not found; SQL statement:\u001b[0;0m",
      "\u001b[1;31mSELECT Modelo, AnoFab\u001b[0;0m",
      "\u001b[1;31mFROM Taxi\u001b[0;0m",
      "\u001b[1;31mWHERE AnoFab < 2000 [42102-193]\u001b[0;0m"
     ]
    }
   ],
   "source": [
    "SELECT Modelo, AnoFab\n",
    "       FROM Taxi\n",
    "       WHERE AnoFab < 2000;"
   ]
  },
  {
   "cell_type": "code",
   "execution_count": 50,
   "metadata": {},
   "outputs": [
    {
     "ename": "org.h2.jdbc.JdbcSQLException",
     "evalue": " Table \"TAXI\" not found; SQL statement",
     "output_type": "error",
     "traceback": [
      "\u001b[1;31morg.h2.jdbc.JdbcSQLException: Table \"TAXI\" not found; SQL statement:\u001b[0;0m",
      "\u001b[1;31mSELECT Modelo, COUNT(*) NUM\u001b[0;0m",
      "\u001b[1;31mFROM Taxi\u001b[0;0m",
      "\u001b[1;31mWHERE AnoFab < 2000\u001b[0;0m",
      "\u001b[1;31mGROUP BY Modelo [42102-193]\u001b[0;0m"
     ]
    }
   ],
   "source": [
    "-- Selecionados e Agregados\n",
    "SELECT Modelo, COUNT(*) NUM\n",
    "       FROM Taxi\n",
    "       WHERE AnoFab < 2000\n",
    "       GROUP BY Modelo;"
   ]
  },
  {
   "cell_type": "markdown",
   "metadata": {},
   "source": [
    "### Modelos de Táxi que têm mais de um Táxi do respectivo modelo\n",
    "\n",
    "Exemplo com `HAVING` em que a condição é aplicada após se agregar:"
   ]
  },
  {
   "cell_type": "code",
   "execution_count": 51,
   "metadata": {},
   "outputs": [
    {
     "ename": "org.h2.jdbc.JdbcSQLException",
     "evalue": " Table \"TAXI\" not found; SQL statement",
     "output_type": "error",
     "traceback": [
      "\u001b[1;31morg.h2.jdbc.JdbcSQLException: Table \"TAXI\" not found; SQL statement:\u001b[0;0m",
      "\u001b[1;31mSELECT Modelo, COUNT(*) NUM\u001b[0;0m",
      "\u001b[1;31mFROM Taxi\u001b[0;0m",
      "\u001b[1;31mGROUP BY Modelo [42102-193]\u001b[0;0m"
     ]
    }
   ],
   "source": [
    "-- Agrupamento\n",
    "SELECT Modelo, COUNT(*) NUM\n",
    "       FROM Taxi\n",
    "       GROUP BY Modelo;"
   ]
  },
  {
   "cell_type": "code",
   "execution_count": 52,
   "metadata": {},
   "outputs": [
    {
     "ename": "org.h2.jdbc.JdbcSQLException",
     "evalue": " Table \"TAXI\" not found; SQL statement",
     "output_type": "error",
     "traceback": [
      "\u001b[1;31morg.h2.jdbc.JdbcSQLException: Table \"TAXI\" not found; SQL statement:\u001b[0;0m",
      "\u001b[1;31mSELECT Modelo, COUNT(*) NUM\u001b[0;0m",
      "\u001b[1;31mFROM Taxi\u001b[0;0m",
      "\u001b[1;31mGROUP BY Modelo\u001b[0;0m",
      "\u001b[1;31mHAVING NUM > 1 [42102-193]\u001b[0;0m"
     ]
    }
   ],
   "source": [
    "-- Agrupamento com HAVING\n",
    "SELECT Modelo, COUNT(*) NUM\n",
    "       FROM Taxi\n",
    "       GROUP BY Modelo\n",
    "       HAVING NUM > 1;"
   ]
  },
  {
   "cell_type": "markdown",
   "metadata": {},
   "source": [
    "## `HAVING` apenas para campos agregados \n",
    "\n",
    "### Modelos daqueles Táxis com ano de fabricação acima de 2000\n",
    "\n",
    "A seleção a seguir produzirá um erro pois está se aplicando uma condição `HAVING` para um campo não agregado. Deveria ter sido usado `WHERE` como foi feito anteriormente."
   ]
  },
  {
   "cell_type": "code",
   "execution_count": 53,
   "metadata": {},
   "outputs": [
    {
     "ename": "org.h2.jdbc.JdbcSQLException",
     "evalue": " Table \"TAXI\" not found; SQL statement",
     "output_type": "error",
     "traceback": [
      "\u001b[1;31morg.h2.jdbc.JdbcSQLException: Table \"TAXI\" not found; SQL statement:\u001b[0;0m",
      "\u001b[1;31mSELECT Modelo, COUNT(*) NUM\u001b[0;0m",
      "\u001b[1;31mFROM Taxi\u001b[0;0m",
      "\u001b[1;31mGROUP BY Modelo\u001b[0;0m",
      "\u001b[1;31mHAVING AnoFab > 2000 [42102-193]\u001b[0;0m"
     ]
    }
   ],
   "source": [
    "SELECT Modelo, COUNT(*) NUM\n",
    "       FROM Taxi\n",
    "       GROUP BY Modelo\n",
    "       HAVING AnoFab > 2000;"
   ]
  },
  {
   "cell_type": "markdown",
   "metadata": {},
   "source": [
    "## Exemplo de `HAVING` com funções de agregação\n",
    "\n",
    "### Modelos de Táxi cujo menor Ano de Fabricação seja após 2000"
   ]
  },
  {
   "cell_type": "code",
   "execution_count": 54,
   "metadata": {},
   "outputs": [
    {
     "ename": "org.h2.jdbc.JdbcSQLException",
     "evalue": " Table \"TAXI\" not found; SQL statement",
     "output_type": "error",
     "traceback": [
      "\u001b[1;31morg.h2.jdbc.JdbcSQLException: Table \"TAXI\" not found; SQL statement:\u001b[0;0m",
      "\u001b[1;31mSELECT Modelo, AnoFab\u001b[0;0m",
      "\u001b[1;31mFROM Taxi\u001b[0;0m",
      "\u001b[1;31mWHERE AnoFab < 2000 [42102-193]\u001b[0;0m"
     ]
    }
   ],
   "source": [
    "-- sem agregacao (nao eh possível resolver a questao)\n",
    "SELECT Modelo, AnoFab\n",
    "       FROM Taxi\n",
    "       WHERE AnoFab < 2000;"
   ]
  },
  {
   "cell_type": "code",
   "execution_count": 55,
   "metadata": {},
   "outputs": [
    {
     "ename": "org.h2.jdbc.JdbcSQLException",
     "evalue": " Table \"TAXI\" not found; SQL statement",
     "output_type": "error",
     "traceback": [
      "\u001b[1;31morg.h2.jdbc.JdbcSQLException: Table \"TAXI\" not found; SQL statement:\u001b[0;0m",
      "\u001b[1;31mSELECT Modelo, MAX(AnoFab) MaiorAno\u001b[0;0m",
      "\u001b[1;31mFROM Taxi\u001b[0;0m",
      "\u001b[1;31mGROUP BY Modelo\u001b[0;0m",
      "\u001b[1;31mHAVING MaiorAno < 2000 [42102-193]\u001b[0;0m"
     ]
    }
   ],
   "source": [
    "-- testando após a agregação\n",
    "SELECT Modelo, MAX(AnoFab) MaiorAno\n",
    "       FROM Taxi\n",
    "       GROUP BY Modelo\n",
    "       HAVING MaiorAno < 2000;"
   ]
  },
  {
   "cell_type": "markdown",
   "metadata": {},
   "source": [
    "# VIEW\n",
    "\n",
    "### Total de Táxis por Modelo\n",
    "\n",
    "Agrupamento sem o uso de `VIEW`:"
   ]
  },
  {
   "cell_type": "code",
   "execution_count": 56,
   "metadata": {},
   "outputs": [
    {
     "ename": "org.h2.jdbc.JdbcSQLException",
     "evalue": " Table \"TAXI\" not found; SQL statement",
     "output_type": "error",
     "traceback": [
      "\u001b[1;31morg.h2.jdbc.JdbcSQLException: Table \"TAXI\" not found; SQL statement:\u001b[0;0m",
      "\u001b[1;31mSELECT Modelo, COUNT(*) Numero_Taxis\u001b[0;0m",
      "\u001b[1;31mFROM taxi\u001b[0;0m",
      "\u001b[1;31mGROUP BY Modelo [42102-193]\u001b[0;0m"
     ]
    }
   ],
   "source": [
    "SELECT Modelo, COUNT(*) Numero_Taxis\n",
    "       FROM taxi\n",
    "       GROUP BY Modelo;"
   ]
  },
  {
   "cell_type": "markdown",
   "metadata": {},
   "source": [
    "### Tabela de Total de Táxis por Modelo\n",
    "\n",
    "Transformando o agrupamento na tabela `Contagem_Modelo` com o `VIEW`:"
   ]
  },
  {
   "cell_type": "code",
   "execution_count": 57,
   "metadata": {},
   "outputs": [
    {
     "ename": "org.h2.jdbc.JdbcSQLException",
     "evalue": " Table \"TAXI\" not found; SQL statement",
     "output_type": "error",
     "traceback": [
      "\u001b[1;31morg.h2.jdbc.JdbcSQLException: Table \"TAXI\" not found; SQL statement:\u001b[0;0m",
      "\u001b[1;31mCREATE VIEW Contagem_Modelo AS\u001b[0;0m",
      "\u001b[1;31mSELECT Modelo, COUNT(*) Numero_Taxis\u001b[0;0m",
      "\u001b[1;31mFROM taxi\u001b[0;0m",
      "\u001b[1;31mGROUP BY Modelo [42102-193]\u001b[0;0m"
     ]
    }
   ],
   "source": [
    "CREATE VIEW Contagem_Modelo AS\n",
    "SELECT Modelo, COUNT(*) Numero_Taxis\n",
    "       FROM taxi\n",
    "       GROUP BY Modelo;\n",
    "\n",
    "SELECT * FROM Contagem_Modelo;"
   ]
  },
  {
   "cell_type": "markdown",
   "metadata": {},
   "source": [
    "Usando a tabela criada com a `VIEW`:"
   ]
  },
  {
   "cell_type": "code",
   "execution_count": 58,
   "metadata": {},
   "outputs": [
    {
     "ename": "org.h2.jdbc.JdbcSQLException",
     "evalue": " Table \"CONTAGEM_MODELO\" not found; SQL statement",
     "output_type": "error",
     "traceback": [
      "\u001b[1;31morg.h2.jdbc.JdbcSQLException: Table \"CONTAGEM_MODELO\" not found; SQL statement:\u001b[0;0m",
      "\u001b[1;31mSELECT MAX(Numero_Taxis) FROM Contagem_Modelo [42102-193]\u001b[0;0m"
     ]
    }
   ],
   "source": [
    "SELECT MAX(Numero_Taxis) FROM Contagem_Modelo;"
   ]
  },
  {
   "cell_type": "markdown",
   "metadata": {},
   "source": [
    "## VIEW se auto-atualiza\n",
    "\n",
    "A view é um recorte dinâmico, ela se auto-atualiza quando a tabela original é modificada."
   ]
  },
  {
   "cell_type": "code",
   "execution_count": 59,
   "metadata": {},
   "outputs": [
    {
     "ename": "org.h2.jdbc.JdbcSQLException",
     "evalue": " Table \"TAXI\" not found; SQL statement",
     "output_type": "error",
     "traceback": [
      "\u001b[1;31morg.h2.jdbc.JdbcSQLException: Table \"TAXI\" not found; SQL statement:\u001b[0;0m",
      "\u001b[1;31mINSERT INTO Taxi VALUES ('KMN3412', 'Chevrolet', 'Corsa', 2001, 'QJ572345') [42102-193]\u001b[0;0m"
     ]
    }
   ],
   "source": [
    "INSERT INTO Taxi VALUES ('KMN3412', 'Chevrolet', 'Corsa', 2001, 'QJ572345');\n",
    "SELECT * FROM Contagem_Modelo;"
   ]
  }
 ],
 "metadata": {
  "kernelspec": {
   "display_name": "SQL",
   "language": "SQL",
   "name": "sql"
  },
  "language_info": {
   "codemirror_mode": "sql",
   "file_extension": ".sql",
   "mimetype": "",
   "name": "SQL",
   "nbconverter_exporter": "",
   "version": ""
  },
  "toc": {
   "base_numbering": 1,
   "nav_menu": {},
   "number_sections": false,
   "sideBar": false,
   "skip_h1_title": false,
   "title_cell": "Table of Contents",
   "title_sidebar": "Contents",
   "toc_cell": false,
   "toc_position": {},
   "toc_section_display": false,
   "toc_window_display": false
  }
 },
 "nbformat": 4,
 "nbformat_minor": 2
}
